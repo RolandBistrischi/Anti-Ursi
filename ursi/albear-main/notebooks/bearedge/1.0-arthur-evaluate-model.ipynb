{
 "cells": [
  {
   "cell_type": "code",
   "execution_count": 67,
   "id": "4d909d44-0f65-4e2c-8697-89235cf0b5c0",
   "metadata": {},
   "outputs": [],
   "source": [
    "import glob\n",
    "import sys\n",
    "import logging\n",
    "from tqdm import tqdm\n",
    "from PIL import Image\n",
    "from os import path\n",
    "from pathlib import Path\n",
    "import matplotlib.pyplot as plt\n",
    "import matplotlib.patches as patches\n",
    "import time\n",
    "import csv\n",
    "import random\n",
    "import pandas as pd\n",
    "import math\n",
    "import json\n",
    "\n",
    "from tqdm.notebook import tqdm"
   ]
  },
  {
   "cell_type": "code",
   "execution_count": 14,
   "id": "86ddd02a-d683-4fac-9f04-fac87754dfc2",
   "metadata": {},
   "outputs": [],
   "source": [
    "input_dir = Path('../../data/01_raw/Hack the Planet')\n",
    "coco_filepath = input_dir / \"coco.json\"\n",
    "image_root_dir = input_dir / \"images\""
   ]
  },
  {
   "cell_type": "code",
   "execution_count": 80,
   "id": "918899f8-8c15-4a3c-9bd7-97659cf9ed74",
   "metadata": {},
   "outputs": [],
   "source": [
    "bear_images_root_dir = Path(\"../../data/05_model_input/beardetection/yolov8/test/images/\")"
   ]
  },
  {
   "cell_type": "code",
   "execution_count": 82,
   "id": "b34f74c8-e3fc-4486-812a-3d21a96442bf",
   "metadata": {},
   "outputs": [],
   "source": [
    "def get_filepaths(root: Path, allowed_suffixes={\".jpg\", \".JPG\", \".PNG\"}) -> list[Path]:\n",
    "    \"\"\"Lists all filepaths given a root directory `root`.\"\"\"\n",
    "    return [p for p in root.rglob(\"*\") if p.suffix in allowed_suffixes and p.exists()]"
   ]
  },
  {
   "cell_type": "code",
   "execution_count": 84,
   "id": "1ccd058b-631a-418b-99b4-2dc3c468c43c",
   "metadata": {},
   "outputs": [],
   "source": [
    "image_filepaths_with_bears = get_filepaths(root=bear_images_root_dir)"
   ]
  },
  {
   "cell_type": "code",
   "execution_count": 85,
   "id": "d1a7d481-d320-4626-8e01-251cfe0396f5",
   "metadata": {},
   "outputs": [
    {
     "data": {
      "text/plain": [
       "[PosixPath('../../data/05_model_input/beardetection/yolov8/test/images/02190220.JPG'),\n",
       " PosixPath('../../data/05_model_input/beardetection/yolov8/test/images/I_00022b.JPG'),\n",
       " PosixPath('../../data/05_model_input/beardetection/yolov8/test/images/I_00019a.JPG'),\n",
       " PosixPath('../../data/05_model_input/beardetection/yolov8/test/images/I_00023b.JPG'),\n",
       " PosixPath('../../data/05_model_input/beardetection/yolov8/test/images/I__00012.JPG'),\n",
       " PosixPath('../../data/05_model_input/beardetection/yolov8/test/images/I_00018c.JPG'),\n",
       " PosixPath('../../data/05_model_input/beardetection/yolov8/test/images/I_00013a.JPG'),\n",
       " PosixPath('../../data/05_model_input/beardetection/yolov8/test/images/02190222.JPG'),\n",
       " PosixPath('../../data/05_model_input/beardetection/yolov8/test/images/I_00018a.JPG'),\n",
       " PosixPath('../../data/05_model_input/beardetection/yolov8/test/images/I_00032a.JPG'),\n",
       " PosixPath('../../data/05_model_input/beardetection/yolov8/test/images/I_00017c.JPG'),\n",
       " PosixPath('../../data/05_model_input/beardetection/yolov8/test/images/I_00023a.JPG'),\n",
       " PosixPath('../../data/05_model_input/beardetection/yolov8/test/images/I__00003.JPG'),\n",
       " PosixPath('../../data/05_model_input/beardetection/yolov8/test/images/I_00022a.JPG'),\n",
       " PosixPath('../../data/05_model_input/beardetection/yolov8/test/images/I_00007b.JPG'),\n",
       " PosixPath('../../data/05_model_input/beardetection/yolov8/test/images/I__00009.JPG'),\n",
       " PosixPath('../../data/05_model_input/beardetection/yolov8/test/images/I_00015a.JPG'),\n",
       " PosixPath('../../data/05_model_input/beardetection/yolov8/test/images/I_00008a.JPG'),\n",
       " PosixPath('../../data/05_model_input/beardetection/yolov8/test/images/I_00017a.JPG'),\n",
       " PosixPath('../../data/05_model_input/beardetection/yolov8/test/images/02190221.JPG'),\n",
       " PosixPath('../../data/05_model_input/beardetection/yolov8/test/images/I_00021a.JPG'),\n",
       " PosixPath('../../data/05_model_input/beardetection/yolov8/test/images/I_00020a.JPG'),\n",
       " PosixPath('../../data/05_model_input/beardetection/yolov8/test/images/I_00018b.JPG'),\n",
       " PosixPath('../../data/05_model_input/beardetection/yolov8/test/images/I_00021b.JPG'),\n",
       " PosixPath('../../data/05_model_input/beardetection/yolov8/test/images/I_00031a.JPG'),\n",
       " PosixPath('../../data/05_model_input/beardetection/yolov8/test/images/I__00007.JPG'),\n",
       " PosixPath('../../data/05_model_input/beardetection/yolov8/test/images/I__00006.JPG'),\n",
       " PosixPath('../../data/05_model_input/beardetection/yolov8/test/images/I_00009b.JPG'),\n",
       " PosixPath('../../data/05_model_input/beardetection/yolov8/test/images/I_00019c.JPG'),\n",
       " PosixPath('../../data/05_model_input/beardetection/yolov8/test/images/I_00019b.JPG'),\n",
       " PosixPath('../../data/05_model_input/beardetection/yolov8/test/images/I_00032b.JPG'),\n",
       " PosixPath('../../data/05_model_input/beardetection/yolov8/test/images/I_00015b.JPG'),\n",
       " PosixPath('../../data/05_model_input/beardetection/yolov8/test/images/I__00018.JPG'),\n",
       " PosixPath('../../data/05_model_input/beardetection/yolov8/test/images/I_00014b.JPG'),\n",
       " PosixPath('../../data/05_model_input/beardetection/yolov8/test/images/I_00013b.JPG'),\n",
       " PosixPath('../../data/05_model_input/beardetection/yolov8/test/images/I__00016.JPG'),\n",
       " PosixPath('../../data/05_model_input/beardetection/yolov8/test/images/I_00017b.JPG'),\n",
       " PosixPath('../../data/05_model_input/beardetection/yolov8/test/images/I__00011.JPG'),\n",
       " PosixPath('../../data/05_model_input/beardetection/yolov8/test/images/I_00009a.JPG'),\n",
       " PosixPath('../../data/05_model_input/beardetection/yolov8/test/images/I_00014a.JPG'),\n",
       " PosixPath('../../data/05_model_input/beardetection/yolov8/test/images/03080008.JPG'),\n",
       " PosixPath('../../data/05_model_input/beardetection/yolov8/test/images/I_00007a.JPG'),\n",
       " PosixPath('../../data/05_model_input/beardetection/yolov8/test/images/I_00020b.JPG'),\n",
       " PosixPath('../../data/05_model_input/beardetection/yolov8/test/images/I_00031b.JPG')]"
      ]
     },
     "execution_count": 85,
     "metadata": {},
     "output_type": "execute_result"
    }
   ],
   "source": [
    "image_filepaths_with_bears"
   ]
  },
  {
   "cell_type": "code",
   "execution_count": 9,
   "id": "1da8c0a9-79ed-42de-ae9e-68024344793a",
   "metadata": {},
   "outputs": [],
   "source": [
    "with open(coco_filepath, 'r') as f:\n",
    "    data = json.load(f)"
   ]
  },
  {
   "cell_type": "code",
   "execution_count": 10,
   "id": "adf5aab8-9048-4cd8-aa19-4ed661f59528",
   "metadata": {},
   "outputs": [
    {
     "data": {
      "text/plain": [
       "dict_keys(['info', 'licenses', 'categories', 'images', 'annotations'])"
      ]
     },
     "execution_count": 10,
     "metadata": {},
     "output_type": "execute_result"
    }
   ],
   "source": [
    "data.keys()"
   ]
  },
  {
   "cell_type": "code",
   "execution_count": 12,
   "id": "ae3ab9be-b49c-4819-a3eb-047eecbc727f",
   "metadata": {},
   "outputs": [
    {
     "data": {
      "text/plain": [
       "{'confidence': 0.993,\n",
       " 'category_id': 1,\n",
       " 'image_id': 0,\n",
       " 'bbox': [655.872, 0.999972, 1263.936, 1048.896],\n",
       " 'id': 0}"
      ]
     },
     "execution_count": 12,
     "metadata": {},
     "output_type": "execute_result"
    }
   ],
   "source": [
    "data[\"annotations\"][0]"
   ]
  },
  {
   "cell_type": "code",
   "execution_count": 13,
   "id": "795b0dbe-0ffc-4dcf-b7cc-fe94d8c6196b",
   "metadata": {},
   "outputs": [
    {
     "data": {
      "text/plain": [
       "{'file_name': 'frameOutput/data/Season3 - animals only/22RucarAG/289_Draganu/20191014_20191202/CC0107/10180036_frames/image_180.jpg',\n",
       " 'height': 1080,\n",
       " 'width': 1920,\n",
       " 'license_id': 1,\n",
       " 'id': 0}"
      ]
     },
     "execution_count": 13,
     "metadata": {},
     "output_type": "execute_result"
    }
   ],
   "source": [
    "data[\"images\"][0]"
   ]
  },
  {
   "cell_type": "code",
   "execution_count": 33,
   "id": "18c12dfa-af42-41b4-b711-b0bfadf42ca7",
   "metadata": {},
   "outputs": [],
   "source": [
    "id_to_image_data = {image_data[\"id\"]: image_data for image_data in data[\"images\"]}"
   ]
  },
  {
   "cell_type": "code",
   "execution_count": 34,
   "id": "52795e43-0be2-44cc-8f12-c3f6b2743e88",
   "metadata": {},
   "outputs": [
    {
     "data": {
      "text/plain": [
       "[(0,\n",
       "  {'file_name': 'frameOutput/data/Season3 - animals only/22RucarAG/289_Draganu/20191014_20191202/CC0107/10180036_frames/image_180.jpg',\n",
       "   'height': 1080,\n",
       "   'width': 1920,\n",
       "   'license_id': 1,\n",
       "   'id': 0})]"
      ]
     },
     "execution_count": 34,
     "metadata": {},
     "output_type": "execute_result"
    }
   ],
   "source": [
    "(list(id_to_image_data.items()))[:1]"
   ]
  },
  {
   "cell_type": "code",
   "execution_count": 15,
   "id": "6c18ee4d-b332-4a50-beb6-91118ba35e79",
   "metadata": {},
   "outputs": [
    {
     "data": {
      "text/plain": [
       "[{'name': 'empty', 'supercategory': None, 'id': 0},\n",
       " {'name': 'animal', 'supercategory': None, 'id': 1},\n",
       " {'name': 'bear', 'supercategory': 'animal', 'id': 2}]"
      ]
     },
     "execution_count": 15,
     "metadata": {},
     "output_type": "execute_result"
    }
   ],
   "source": [
    "data[\"categories\"]"
   ]
  },
  {
   "cell_type": "code",
   "execution_count": 29,
   "id": "94b6abaf-dfdb-4db4-80d9-53f59d7e6814",
   "metadata": {},
   "outputs": [
    {
     "data": {
      "text/plain": [
       "({0: 'empty', 1: 'animal', 2: 'bear'}, {'empty': 0, 'animal': 1, 'bear': 2})"
      ]
     },
     "execution_count": 29,
     "metadata": {},
     "output_type": "execute_result"
    }
   ],
   "source": [
    "class_id_to_label = {category[\"id\"]: category[\"name\"] for category in data[\"categories\"]}\n",
    "label_to_class_id = {category[\"name\"]: category[\"id\"] for category in data[\"categories\"]}\n",
    "\n",
    "class_id_to_label, label_to_class_id"
   ]
  },
  {
   "cell_type": "code",
   "execution_count": 16,
   "id": "99c3acb4-1293-4b55-ad8f-986702a5f502",
   "metadata": {},
   "outputs": [],
   "source": [
    "annotations = data['annotations'][:10]"
   ]
  },
  {
   "cell_type": "code",
   "execution_count": 17,
   "id": "9fb294fe-3cb4-4967-9017-db38ea8cefa9",
   "metadata": {},
   "outputs": [],
   "source": [
    "annotation = annotations[0]"
   ]
  },
  {
   "cell_type": "code",
   "execution_count": 18,
   "id": "ccb433e8-74a8-47bc-a8c3-470008075be7",
   "metadata": {},
   "outputs": [
    {
     "data": {
      "text/plain": [
       "{'confidence': 0.993,\n",
       " 'category_id': 1,\n",
       " 'image_id': 0,\n",
       " 'bbox': [655.872, 0.999972, 1263.936, 1048.896],\n",
       " 'id': 0}"
      ]
     },
     "execution_count": 18,
     "metadata": {},
     "output_type": "execute_result"
    }
   ],
   "source": [
    "annotation"
   ]
  },
  {
   "cell_type": "code",
   "execution_count": 37,
   "id": "fecb3b6d-bdb2-41aa-b53f-b749ded6b268",
   "metadata": {},
   "outputs": [
    {
     "data": {
      "text/plain": [
       "({'file_name': 'frameOutput/data/Season3 - animals only/22RucarAG/289_Draganu/20191014_20191202/CC0107/10180036_frames/image_180.jpg',\n",
       "  'height': 1080,\n",
       "  'width': 1920,\n",
       "  'license_id': 1,\n",
       "  'id': 0},\n",
       " {'confidence': 0.993,\n",
       "  'category_id': 1,\n",
       "  'image_id': 0,\n",
       "  'bbox': [655.872, 0.999972, 1263.936, 1048.896],\n",
       "  'id': 0})"
      ]
     },
     "execution_count": 37,
     "metadata": {},
     "output_type": "execute_result"
    }
   ],
   "source": [
    "image_data = id_to_image_data[annotation[\"image_id\"]]\n",
    "image_data, annotation"
   ]
  },
  {
   "cell_type": "code",
   "execution_count": 40,
   "id": "d766b467-666a-4a4a-a28b-48a2fd8af268",
   "metadata": {},
   "outputs": [
    {
     "data": {
      "text/plain": [
       "2"
      ]
     },
     "execution_count": 40,
     "metadata": {},
     "output_type": "execute_result"
    }
   ],
   "source": [
    "label_to_class_id[\"bear\"]"
   ]
  },
  {
   "cell_type": "code",
   "execution_count": 53,
   "id": "3e3acf50-19ad-4e14-9b1a-3ad1533304be",
   "metadata": {},
   "outputs": [
    {
     "data": {
      "text/plain": [
       "PosixPath('../../data/01_raw/Hack the Planet/images/frameOutput/data/Season3 - animals only/22RucarAG/289_Draganu/20191014_20191202/CC0107/10180036_frames/image_180.jpg')"
      ]
     },
     "execution_count": 53,
     "metadata": {},
     "output_type": "execute_result"
    }
   ],
   "source": [
    "annotations_without_bears = [annotation for annotation in annotations if (annotation[\"category_id\"] != label_to_class_id[\"bear\"])]\n",
    "image_filepaths_without_bears = [image_root_dir / id_to_image_data[annotation[\"image_id\"]][\"file_name\"] for annotation in annotations_without_bears]\n",
    "\n",
    "annotations_without_bears[0]\n",
    "image_filepaths_without_bears[0]"
   ]
  },
  {
   "cell_type": "code",
   "execution_count": 56,
   "id": "b3182432-17e1-4e7d-850c-62f5d32b0657",
   "metadata": {},
   "outputs": [],
   "source": [
    "image_filepath = image_filepaths_without_bears[1]\n",
    "# Check if image_filepath exists\n",
    "# Check if we can open the image_filepath\n",
    "image = Image.open(image_filepath)"
   ]
  },
  {
   "cell_type": "code",
   "execution_count": 63,
   "id": "ac19329f-9b9c-4fa1-923b-6cd6802367d4",
   "metadata": {},
   "outputs": [],
   "source": [
    "def is_valid_image_filepath(image_filepath: Path) -> bool:\n",
    "    \"\"\"\n",
    "    Checks whether the image_filepath exists and can be read.\n",
    "    \"\"\"\n",
    "    if not image_filepath.exists():\n",
    "        return False\n",
    "    else:\n",
    "        try:\n",
    "            image = Image.open(image_filepath)\n",
    "            return True\n",
    "        except:\n",
    "            return False"
   ]
  },
  {
   "cell_type": "code",
   "execution_count": 59,
   "id": "6bf8ec70-4c89-4f5a-b6cc-7d0bd8c09f41",
   "metadata": {},
   "outputs": [
    {
     "data": {
      "text/plain": [
       "True"
      ]
     },
     "execution_count": 59,
     "metadata": {},
     "output_type": "execute_result"
    }
   ],
   "source": [
    "is_valid_image_filepath(image_filepaths_without_bears[1])"
   ]
  },
  {
   "cell_type": "code",
   "execution_count": 62,
   "id": "f235b919-d617-43b9-9f8d-001217c0c5cf",
   "metadata": {},
   "outputs": [
    {
     "data": {
      "text/plain": [
       "True"
      ]
     },
     "execution_count": 62,
     "metadata": {},
     "output_type": "execute_result"
    }
   ],
   "source": [
    "is_valid_image_filepath(image_filepaths_without_bears[5])"
   ]
  },
  {
   "cell_type": "code",
   "execution_count": 64,
   "id": "7610a8f0-b096-449b-a491-1c3d00bd274f",
   "metadata": {},
   "outputs": [],
   "source": [
    "image_filepaths_valid_without_bears = [image_filepath for image_filepath in image_filepaths_without_bears if is_valid_image_filepath(image_filepath)]"
   ]
  },
  {
   "cell_type": "code",
   "execution_count": 65,
   "id": "c3652802-0e23-4da9-b1a7-abdd689ad2ff",
   "metadata": {},
   "outputs": [
    {
     "data": {
      "text/plain": [
       "9"
      ]
     },
     "execution_count": 65,
     "metadata": {},
     "output_type": "execute_result"
    }
   ],
   "source": [
    "len(image_filepaths_valid_without_bears)"
   ]
  },
  {
   "cell_type": "code",
   "execution_count": 66,
   "id": "782f11f0-a049-414c-b3c7-dcc1c01f02e3",
   "metadata": {},
   "outputs": [
    {
     "data": {
      "text/plain": [
       "[PosixPath('../../data/01_raw/Hack the Planet/images/frameOutput/data/Season2 - animals only/21IzvoareleDamboviteiAG/161_Culmea Pecineagului/20181213_20190407/Bushn_CC0108/05130651_frames/image_240.jpg'),\n",
       " PosixPath('../../data/01_raw/Hack the Planet/images/frameOutput/data/Bison - animals only/18RaulTarguluiAG/Exterior tarc/20211014_20211230/11120108_frames/image_90.jpg'),\n",
       " PosixPath('../../data/01_raw/Hack the Planet/images/frameOutput/data/Season1 - animals only/POST 27/STRIMBISOARA_Bushnell_CC0YC/03280068_frames/image_180.jpg'),\n",
       " PosixPath('../../data/01_raw/Hack the Planet/images/frameOutput/data/Bison - animals only/21IzvoareleDamboviteiAG/Bunea - curba/20201223_20210121/01050202_frames/image_60.jpg'),\n",
       " PosixPath('../../data/01_raw/Hack the Planet/images/frameOutput/data/Season2 - animals only/22RucarAG/130_Fundu draganului/20181210_20190109/Bushn_CC00YF/12100031_frames/image_150.jpg'),\n",
       " PosixPath('../../data/01_raw/Hack the Planet/images/frameOutput/data/Season3 - animals only/22RucarAG/289_Draganu/20191014_20191202/CC0107/11180185_frames/image_60.jpg'),\n",
       " PosixPath('../../data/01_raw/Hack the Planet/images/Season2 - animals only/34SercaitaBV/167_Faget/20190223_20190312/Cudde_CC0144/I_00017a.JPG'),\n",
       " PosixPath('../../data/01_raw/Hack the Planet/images/frameOutput/data/Season3 - animals only/22RucarAG/284_Capitanu/20191008_20191203/CC010H/10030080_frames/image_120.jpg'),\n",
       " PosixPath('../../data/01_raw/Hack the Planet/images/frameOutput/data/Season5 - animals only/22RucarAG/Plaghia_Loc boncanit_2/20210915_20210930/09250064_frames/image_1680.jpg')]"
      ]
     },
     "execution_count": 66,
     "metadata": {},
     "output_type": "execute_result"
    }
   ],
   "source": [
    "image_filepaths_valid_without_bears"
   ]
  },
  {
   "cell_type": "code",
   "execution_count": 70,
   "id": "43f3b5e3-5c4c-46e8-b8f0-7ce7f42f6220",
   "metadata": {},
   "outputs": [],
   "source": [
    "def get_image_filepaths_without_bears(coco_filepath: dict, image_root_dir: Path) -> list[Path]:\n",
    "    data = None\n",
    "    with open(coco_filepath, 'r') as f:\n",
    "        data = json.load(f)\n",
    "    if not data:\n",
    "        logging.error(f\"could not load coco_filepath: {coco_filepath}\")\n",
    "        return []\n",
    "    else:\n",
    "        id_to_image_data = {image_data[\"id\"]: image_data for image_data in data[\"images\"]}\n",
    "        class_id_to_label = {category[\"id\"]: category[\"name\"] for category in data[\"categories\"]}\n",
    "        label_to_class_id = {category[\"name\"]: category[\"id\"] for category in data[\"categories\"]}\n",
    "        # FIXME\n",
    "        annotations = data['annotations']\n",
    "        annotations_without_bears = [annotation for annotation in annotations if (annotation[\"category_id\"] != label_to_class_id[\"bear\"])]\n",
    "        image_filepaths_without_bears = [image_root_dir / id_to_image_data[annotation[\"image_id\"]][\"file_name\"] for annotation in annotations_without_bears]\n",
    "        return [image_filepath for image_filepath in image_filepaths_without_bears if is_valid_image_filepath(image_filepath)]"
   ]
  },
  {
   "cell_type": "code",
   "execution_count": 71,
   "id": "35188089-da7f-4ad2-85ac-b46286b811cc",
   "metadata": {},
   "outputs": [],
   "source": [
    "image_filepaths_without_bears = get_image_filepaths_without_bears(coco_filepath=coco_filepath, image_root_dir=image_root_dir)"
   ]
  },
  {
   "cell_type": "code",
   "execution_count": 73,
   "id": "9bfc5760-fe13-47d9-acb2-07647dbb084b",
   "metadata": {},
   "outputs": [
    {
     "data": {
      "text/plain": [
       "14073"
      ]
     },
     "execution_count": 73,
     "metadata": {},
     "output_type": "execute_result"
    }
   ],
   "source": [
    "len(image_filepaths_without_bears)"
   ]
  },
  {
   "cell_type": "code",
   "execution_count": 94,
   "id": "11930463-1d94-43ce-8239-53787fda1354",
   "metadata": {},
   "outputs": [],
   "source": [
    "random_seed = 42\n",
    "n_without_bears = len(image_filepaths_without_bears)\n",
    "n_with_bears = len(image_filepaths_with_bears)\n",
    "n = min(n_with_bears, n_without_bears)\n",
    "n_threshold = 10\n",
    "\n",
    "\n",
    "samples_without_bears = random.Random(random_seed).sample(image_filepaths_without_bears, min(n, n_threshold))\n",
    "samples_with_bears = random.Random(random_seed).sample(image_filepaths_with_bears, min(n, n_threshold))"
   ]
  },
  {
   "cell_type": "code",
   "execution_count": 93,
   "id": "bae7a6e4-a399-49e5-94c3-07edbc2544cb",
   "metadata": {},
   "outputs": [
    {
     "data": {
      "text/plain": [
       "(14073, 44, 20, 44, 20, 20)"
      ]
     },
     "execution_count": 93,
     "metadata": {},
     "output_type": "execute_result"
    }
   ],
   "source": [
    "n_without_bears, n_with_bears, n_threshold, n, len(samples_with_bears), len(samples_without_bears)"
   ]
  },
  {
   "cell_type": "code",
   "execution_count": 95,
   "id": "400847d0-04fe-48c6-8897-b6c82a94ab3a",
   "metadata": {},
   "outputs": [],
   "source": [
    "model_weights_filepath = Path(\"../../data/06_models/beardetection/yolov8/best/weights/best.pt\") "
   ]
  },
  {
   "cell_type": "code",
   "execution_count": 96,
   "id": "b5e23ba6-61ea-4756-b448-8d5f81531cd5",
   "metadata": {},
   "outputs": [],
   "source": [
    "from ultralytics import YOLO"
   ]
  },
  {
   "cell_type": "code",
   "execution_count": 97,
   "id": "04ce1df2-46d1-471f-9800-883b125a3ee2",
   "metadata": {},
   "outputs": [],
   "source": [
    "model = YOLO(model_weights_filepath)"
   ]
  },
  {
   "cell_type": "code",
   "execution_count": 98,
   "id": "7f378344-496b-4a00-bb17-a876f4c28d7d",
   "metadata": {},
   "outputs": [
    {
     "name": "stdout",
     "output_type": "stream",
     "text": [
      "Model summary: 225 layers, 3011043 parameters, 0 gradients, 8.2 GFLOPs\n"
     ]
    },
    {
     "data": {
      "text/plain": [
       "(225, 3011043, 0, 8.1941504)"
      ]
     },
     "execution_count": 98,
     "metadata": {},
     "output_type": "execute_result"
    }
   ],
   "source": [
    "model.info()"
   ]
  },
  {
   "cell_type": "code",
   "execution_count": 109,
   "id": "01e50f0a-5484-44aa-8c4c-fb300c3e3534",
   "metadata": {},
   "outputs": [
    {
     "name": "stdout",
     "output_type": "stream",
     "text": [
      "\n",
      "image 1/1 /home/chouffe/fruitpunch/challenges/bear/notebooks/bearedge/../../data/05_model_input/beardetection/yolov8/test/images/03080008.JPG: 768x1024 1 bearbody, 173.8ms\n",
      "Speed: 11.6ms preprocess, 173.8ms inference, 0.9ms postprocess per image at shape (1, 3, 768, 1024)\n",
      "Results saved to \u001b[1mruns/detect/predict\u001b[0m\n"
     ]
    },
    {
     "data": {
      "text/plain": [
       "[ultralytics.engine.results.Results object with attributes:\n",
       " \n",
       " boxes: ultralytics.engine.results.Boxes object\n",
       " keypoints: None\n",
       " masks: None\n",
       " names: {0: 'bearbody'}\n",
       " obb: None\n",
       " orig_img: array([[[251, 242, 238],\n",
       "         [251, 242, 238],\n",
       "         [251, 242, 238],\n",
       "         ...,\n",
       "         [255, 253, 253],\n",
       "         [255, 254, 254],\n",
       "         [255, 255, 255]],\n",
       " \n",
       "        [[252, 243, 239],\n",
       "         [251, 242, 238],\n",
       "         [250, 241, 237],\n",
       "         ...,\n",
       "         [255, 253, 253],\n",
       "         [255, 254, 254],\n",
       "         [255, 255, 255]],\n",
       " \n",
       "        [[250, 241, 237],\n",
       "         [249, 240, 236],\n",
       "         [249, 240, 236],\n",
       "         ...,\n",
       "         [255, 255, 255],\n",
       "         [252, 250, 250],\n",
       "         [248, 246, 246]],\n",
       " \n",
       "        ...,\n",
       " \n",
       "        [[ 39,  85, 196],\n",
       "         [ 49,  94, 209],\n",
       "         [ 37,  78, 200],\n",
       "         ...,\n",
       "         [252, 251, 255],\n",
       "         [252, 251, 255],\n",
       "         [252, 251, 255]],\n",
       " \n",
       "        [[ 35,  81, 192],\n",
       "         [ 37,  82, 197],\n",
       "         [ 58,  99, 221],\n",
       "         ...,\n",
       "         [255, 253, 255],\n",
       "         [255, 253, 255],\n",
       "         [255, 253, 255]],\n",
       " \n",
       "        [[ 44,  90, 201],\n",
       "         [ 30,  75, 190],\n",
       "         [ 51,  92, 214],\n",
       "         ...,\n",
       "         [212, 194, 201],\n",
       "         [212, 194, 201],\n",
       "         [212, 194, 201]]], dtype=uint8)\n",
       " orig_shape: (1440, 1920)\n",
       " path: '/home/chouffe/fruitpunch/challenges/bear/notebooks/bearedge/../../data/05_model_input/beardetection/yolov8/test/images/03080008.JPG'\n",
       " probs: None\n",
       " save_dir: 'runs/detect/predict'\n",
       " speed: {'preprocess': 11.608362197875977, 'inference': 173.83217811584473, 'postprocess': 0.8759498596191406}]"
      ]
     },
     "execution_count": 109,
     "metadata": {},
     "output_type": "execute_result"
    }
   ],
   "source": [
    "model.predict(samples_with_bears[0], save=True)"
   ]
  },
  {
   "cell_type": "code",
   "execution_count": 101,
   "id": "5becdc20-71b3-4ef9-baf0-c77d806632e5",
   "metadata": {},
   "outputs": [
    {
     "name": "stdout",
     "output_type": "stream",
     "text": [
      "\n",
      "image 1/1 /home/chouffe/fruitpunch/challenges/bear/notebooks/bearedge/../../data/05_model_input/beardetection/yolov8/test/images/03080008.JPG: 768x1024 1 bearbody, 185.7ms\n",
      "Speed: 10.2ms preprocess, 185.7ms inference, 6.0ms postprocess per image at shape (1, 3, 768, 1024)\n"
     ]
    },
    {
     "data": {
      "text/plain": [
       "[ultralytics.engine.results.Results object with attributes:\n",
       " \n",
       " boxes: ultralytics.engine.results.Boxes object\n",
       " keypoints: None\n",
       " masks: None\n",
       " names: {0: 'bearbody'}\n",
       " obb: None\n",
       " orig_img: array([[[251, 242, 238],\n",
       "         [251, 242, 238],\n",
       "         [251, 242, 238],\n",
       "         ...,\n",
       "         [255, 253, 253],\n",
       "         [255, 254, 254],\n",
       "         [255, 255, 255]],\n",
       " \n",
       "        [[252, 243, 239],\n",
       "         [251, 242, 238],\n",
       "         [250, 241, 237],\n",
       "         ...,\n",
       "         [255, 253, 253],\n",
       "         [255, 254, 254],\n",
       "         [255, 255, 255]],\n",
       " \n",
       "        [[250, 241, 237],\n",
       "         [249, 240, 236],\n",
       "         [249, 240, 236],\n",
       "         ...,\n",
       "         [255, 255, 255],\n",
       "         [252, 250, 250],\n",
       "         [248, 246, 246]],\n",
       " \n",
       "        ...,\n",
       " \n",
       "        [[ 39,  85, 196],\n",
       "         [ 49,  94, 209],\n",
       "         [ 37,  78, 200],\n",
       "         ...,\n",
       "         [252, 251, 255],\n",
       "         [252, 251, 255],\n",
       "         [252, 251, 255]],\n",
       " \n",
       "        [[ 35,  81, 192],\n",
       "         [ 37,  82, 197],\n",
       "         [ 58,  99, 221],\n",
       "         ...,\n",
       "         [255, 253, 255],\n",
       "         [255, 253, 255],\n",
       "         [255, 253, 255]],\n",
       " \n",
       "        [[ 44,  90, 201],\n",
       "         [ 30,  75, 190],\n",
       "         [ 51,  92, 214],\n",
       "         ...,\n",
       "         [212, 194, 201],\n",
       "         [212, 194, 201],\n",
       "         [212, 194, 201]]], dtype=uint8)\n",
       " orig_shape: (1440, 1920)\n",
       " path: '/home/chouffe/fruitpunch/challenges/bear/notebooks/bearedge/../../data/05_model_input/beardetection/yolov8/test/images/03080008.JPG'\n",
       " probs: None\n",
       " save_dir: None\n",
       " speed: {'preprocess': 10.198116302490234, 'inference': 185.65654754638672, 'postprocess': 6.039142608642578}]"
      ]
     },
     "execution_count": 101,
     "metadata": {},
     "output_type": "execute_result"
    }
   ],
   "source": [
    "model.predict(samples_with_bears[0])"
   ]
  },
  {
   "cell_type": "code",
   "execution_count": 115,
   "id": "1162542f-3079-4a24-891c-91725b13b5d9",
   "metadata": {},
   "outputs": [
    {
     "name": "stdout",
     "output_type": "stream",
     "text": [
      "\n",
      "image 1/1 /home/chouffe/fruitpunch/challenges/bear/notebooks/bearedge/../../data/01_raw/Hack the Planet/images/frameOutput/data/Season1 - animals only/POST 28/BLIDARU_Bushnell_CC00YY_FCC-CAM-022/03260425_frames/image_240.jpg: 576x1024 1 bearbody, 127.0ms\n",
      "Speed: 4.9ms preprocess, 127.0ms inference, 0.8ms postprocess per image at shape (1, 3, 576, 1024)\n",
      "Results saved to \u001b[1mruns/detect/predict\u001b[0m\n"
     ]
    },
    {
     "data": {
      "text/plain": [
       "[ultralytics.engine.results.Results object with attributes:\n",
       " \n",
       " boxes: ultralytics.engine.results.Boxes object\n",
       " keypoints: None\n",
       " masks: None\n",
       " names: {0: 'bearbody'}\n",
       " obb: None\n",
       " orig_img: array([[[176, 168, 168],\n",
       "         [176, 168, 168],\n",
       "         [176, 168, 168],\n",
       "         ...,\n",
       "         [103, 115, 125],\n",
       "         [ 63,  79,  92],\n",
       "         [ 47,  64,  77]],\n",
       " \n",
       "        [[176, 168, 168],\n",
       "         [176, 168, 168],\n",
       "         [176, 168, 168],\n",
       "         ...,\n",
       "         [111, 123, 133],\n",
       "         [ 72,  88, 100],\n",
       "         [ 48,  65,  78]],\n",
       " \n",
       "        [[176, 168, 168],\n",
       "         [176, 168, 168],\n",
       "         [176, 168, 168],\n",
       "         ...,\n",
       "         [124, 136, 146],\n",
       "         [ 87, 105, 116],\n",
       "         [ 53,  72,  85]],\n",
       " \n",
       "        ...,\n",
       " \n",
       "        [[ 49,  96, 187],\n",
       "         [145, 182, 250],\n",
       "         [190, 204, 232],\n",
       "         ...,\n",
       "         [250, 250, 250],\n",
       "         [250, 250, 250],\n",
       "         [250, 250, 250]],\n",
       " \n",
       "        [[ 49,  96, 187],\n",
       "         [145, 182, 250],\n",
       "         [190, 204, 232],\n",
       "         ...,\n",
       "         [250, 250, 250],\n",
       "         [250, 250, 250],\n",
       "         [250, 250, 250]],\n",
       " \n",
       "        [[ 50,  97, 188],\n",
       "         [146, 183, 251],\n",
       "         [190, 204, 232],\n",
       "         ...,\n",
       "         [250, 250, 250],\n",
       "         [250, 250, 250],\n",
       "         [250, 250, 250]]], dtype=uint8)\n",
       " orig_shape: (1080, 1920)\n",
       " path: '/home/chouffe/fruitpunch/challenges/bear/notebooks/bearedge/../../data/01_raw/Hack the Planet/images/frameOutput/data/Season1 - animals only/POST 28/BLIDARU_Bushnell_CC00YY_FCC-CAM-022/03260425_frames/image_240.jpg'\n",
       " probs: None\n",
       " save_dir: 'runs/detect/predict'\n",
       " speed: {'preprocess': 4.860877990722656, 'inference': 127.02608108520508, 'postprocess': 0.8382797241210938}]"
      ]
     },
     "execution_count": 115,
     "metadata": {},
     "output_type": "execute_result"
    }
   ],
   "source": [
    "model.predict(samples_without_bears[5], save=True)"
   ]
  },
  {
   "cell_type": "code",
   "execution_count": 103,
   "id": "fddb1e96-ad79-46b0-9bb7-5fc8f0a81def",
   "metadata": {},
   "outputs": [
    {
     "name": "stdout",
     "output_type": "stream",
     "text": [
      "\n",
      "image 1/1 /home/chouffe/fruitpunch/challenges/bear/notebooks/bearedge/../../data/01_raw/Hack the Planet/images/frameOutput/data/Bison - animals only/18RaulTarguluiAG/Hranitor/20210226_20210308/03070944_frames/image_570.jpg: 576x1024 2 bearbodys, 118.8ms\n",
      "Speed: 7.3ms preprocess, 118.8ms inference, 0.8ms postprocess per image at shape (1, 3, 576, 1024)\n"
     ]
    }
   ],
   "source": [
    "yolov8_predictions = model.predict(samples_without_bears[0])"
   ]
  },
  {
   "cell_type": "code",
   "execution_count": 107,
   "id": "721dd54a-834b-4115-b67f-36804b256350",
   "metadata": {},
   "outputs": [
    {
     "data": {
      "text/plain": [
       "ultralytics.engine.results.Results object with attributes:\n",
       "\n",
       "boxes: ultralytics.engine.results.Boxes object\n",
       "keypoints: None\n",
       "masks: None\n",
       "names: {0: 'bearbody'}\n",
       "obb: None\n",
       "orig_img: array([[[  0,   0,   0],\n",
       "        [  0,   0,   0],\n",
       "        [  0,   0,   0],\n",
       "        ...,\n",
       "        [ 18,  10,  20],\n",
       "        [ 26,  19,  26],\n",
       "        [ 32,  28,  34]],\n",
       "\n",
       "       [[  0,   0,   0],\n",
       "        [  0,   0,   0],\n",
       "        [  0,   0,   0],\n",
       "        ...,\n",
       "        [ 27,  20,  27],\n",
       "        [ 22,  18,  24],\n",
       "        [ 23,  19,  25]],\n",
       "\n",
       "       [[  0,   0,   0],\n",
       "        [  0,   0,   0],\n",
       "        [  0,   0,   0],\n",
       "        ...,\n",
       "        [ 29,  22,  29],\n",
       "        [ 23,  19,  25],\n",
       "        [ 27,  23,  28]],\n",
       "\n",
       "       ...,\n",
       "\n",
       "       [[  0, 105, 255],\n",
       "        [  0, 105, 255],\n",
       "        [  0, 105, 255],\n",
       "        ...,\n",
       "        [255, 255, 255],\n",
       "        [255, 255, 255],\n",
       "        [255, 255, 255]],\n",
       "\n",
       "       [[  0, 105, 255],\n",
       "        [  0, 105, 255],\n",
       "        [  0, 105, 255],\n",
       "        ...,\n",
       "        [255, 255, 255],\n",
       "        [255, 255, 255],\n",
       "        [255, 255, 255]],\n",
       "\n",
       "       [[  0, 105, 255],\n",
       "        [  0, 105, 255],\n",
       "        [  0, 105, 255],\n",
       "        ...,\n",
       "        [255, 255, 255],\n",
       "        [255, 255, 255],\n",
       "        [255, 255, 255]]], dtype=uint8)\n",
       "orig_shape: (1080, 1920)\n",
       "path: '/home/chouffe/fruitpunch/challenges/bear/notebooks/bearedge/../../data/01_raw/Hack the Planet/images/frameOutput/data/Bison - animals only/18RaulTarguluiAG/Hranitor/20210226_20210308/03070944_frames/image_570.jpg'\n",
       "probs: None\n",
       "save_dir: None\n",
       "speed: {'preprocess': 7.315397262573242, 'inference': 118.82495880126953, 'postprocess': 0.8025169372558594}"
      ]
     },
     "execution_count": 107,
     "metadata": {},
     "output_type": "execute_result"
    }
   ],
   "source": [
    "yolov8_predictions[0]"
   ]
  },
  {
   "cell_type": "code",
   "execution_count": null,
   "id": "01b7ac2d-e3ac-47c1-b971-399305203352",
   "metadata": {},
   "outputs": [],
   "source": [
    "yolov8_predictions"
   ]
  }
 ],
 "metadata": {
  "kernelspec": {
   "display_name": "Python 3 (ipykernel)",
   "language": "python",
   "name": "python3"
  },
  "language_info": {
   "codemirror_mode": {
    "name": "ipython",
    "version": 3
   },
   "file_extension": ".py",
   "mimetype": "text/x-python",
   "name": "python",
   "nbconvert_exporter": "python",
   "pygments_lexer": "ipython3",
   "version": "3.9.18"
  }
 },
 "nbformat": 4,
 "nbformat_minor": 5
}
