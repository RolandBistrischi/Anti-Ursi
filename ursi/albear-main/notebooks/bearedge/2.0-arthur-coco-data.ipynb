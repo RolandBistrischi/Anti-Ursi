{
 "cells": [
  {
   "cell_type": "code",
   "execution_count": 1,
   "id": "4d909d44-0f65-4e2c-8697-89235cf0b5c0",
   "metadata": {},
   "outputs": [],
   "source": [
    "import glob\n",
    "import sys\n",
    "import logging\n",
    "from tqdm import tqdm\n",
    "from PIL import Image\n",
    "from os import path\n",
    "from pathlib import Path\n",
    "import matplotlib.pyplot as plt\n",
    "import matplotlib.patches as patches\n",
    "import time\n",
    "import csv\n",
    "import random\n",
    "import pandas as pd\n",
    "import math\n",
    "import json\n",
    "\n",
    "from tqdm.notebook import tqdm"
   ]
  },
  {
   "cell_type": "code",
   "execution_count": 2,
   "id": "86ddd02a-d683-4fac-9f04-fac87754dfc2",
   "metadata": {},
   "outputs": [],
   "source": [
    "input_dir = Path('../../data/01_raw/Hack the Planet')\n",
    "coco_filepath = input_dir / \"coco.json\"\n",
    "image_root_dir = input_dir / \"images\""
   ]
  },
  {
   "cell_type": "code",
   "execution_count": 82,
   "id": "b34f74c8-e3fc-4486-812a-3d21a96442bf",
   "metadata": {},
   "outputs": [],
   "source": [
    "def get_filepaths(root: Path, allowed_suffixes={\".jpg\", \".JPG\", \".PNG\"}) -> list[Path]:\n",
    "    \"\"\"Lists all filepaths given a root directory `root`.\"\"\"\n",
    "    return [p for p in root.rglob(\"*\") if p.suffix in allowed_suffixes and p.exists()]"
   ]
  },
  {
   "cell_type": "code",
   "execution_count": 3,
   "id": "1da8c0a9-79ed-42de-ae9e-68024344793a",
   "metadata": {},
   "outputs": [],
   "source": [
    "with open(coco_filepath, 'r') as f:\n",
    "    data = json.load(f)"
   ]
  },
  {
   "cell_type": "code",
   "execution_count": 4,
   "id": "adf5aab8-9048-4cd8-aa19-4ed661f59528",
   "metadata": {},
   "outputs": [
    {
     "data": {
      "text/plain": [
       "dict_keys(['info', 'licenses', 'categories', 'images', 'annotations'])"
      ]
     },
     "execution_count": 4,
     "metadata": {},
     "output_type": "execute_result"
    }
   ],
   "source": [
    "data.keys()"
   ]
  },
  {
   "cell_type": "code",
   "execution_count": 5,
   "id": "ac19329f-9b9c-4fa1-923b-6cd6802367d4",
   "metadata": {},
   "outputs": [],
   "source": [
    "def is_valid_image_filepath(image_filepath: Path) -> bool:\n",
    "    \"\"\"\n",
    "    Checks whether the image_filepath exists and can be read.\n",
    "    \"\"\"\n",
    "    if not image_filepath.exists():\n",
    "        return False\n",
    "    else:\n",
    "        try:\n",
    "            image = Image.open(image_filepath)\n",
    "            return True\n",
    "        except:\n",
    "            return False"
   ]
  },
  {
   "cell_type": "code",
   "execution_count": 8,
   "id": "43f3b5e3-5c4c-46e8-b8f0-7ce7f42f6220",
   "metadata": {},
   "outputs": [],
   "source": [
    "def get_image_filepaths_without_bears(coco_filepath: dict, image_root_dir: Path) -> list[Path]:\n",
    "    data = None\n",
    "    with open(coco_filepath, 'r') as f:\n",
    "        data = json.load(f)\n",
    "    if not data:\n",
    "        logging.error(f\"could not load coco_filepath: {coco_filepath}\")\n",
    "        return []\n",
    "    else:\n",
    "        id_to_image_data = {image_data[\"id\"]: image_data for image_data in data[\"images\"]}\n",
    "        class_id_to_label = {category[\"id\"]: category[\"name\"] for category in data[\"categories\"]}\n",
    "        label_to_class_id = {category[\"name\"]: category[\"id\"] for category in data[\"categories\"]}\n",
    "        annotations = data['annotations']\n",
    "        annotations_without_bears = [annotation for annotation in annotations if (annotation[\"category_id\"] != label_to_class_id[\"bear\"])]\n",
    "        image_filepaths_without_bears = [image_root_dir / id_to_image_data[annotation[\"image_id\"]][\"file_name\"] for annotation in annotations_without_bears]\n",
    "        return [image_filepath for image_filepath in image_filepaths_without_bears if is_valid_image_filepath(image_filepath)]"
   ]
  },
  {
   "cell_type": "code",
   "execution_count": 9,
   "id": "35188089-da7f-4ad2-85ac-b46286b811cc",
   "metadata": {},
   "outputs": [],
   "source": [
    "image_filepaths_without_bears = get_image_filepaths_without_bears(coco_filepath=coco_filepath, image_root_dir=image_root_dir)"
   ]
  },
  {
   "cell_type": "code",
   "execution_count": 10,
   "id": "9bfc5760-fe13-47d9-acb2-07647dbb084b",
   "metadata": {},
   "outputs": [
    {
     "data": {
      "text/plain": [
       "14073"
      ]
     },
     "execution_count": 10,
     "metadata": {},
     "output_type": "execute_result"
    }
   ],
   "source": [
    "len(image_filepaths_without_bears)"
   ]
  },
  {
   "cell_type": "code",
   "execution_count": 11,
   "id": "11930463-1d94-43ce-8239-53787fda1354",
   "metadata": {},
   "outputs": [],
   "source": [
    "random_seed = 42\n",
    "n = 10\n",
    "\n",
    "samples_without_bears = random.Random(random_seed).sample(image_filepaths_without_bears, n)"
   ]
  },
  {
   "cell_type": "code",
   "execution_count": 12,
   "id": "a8c18d7b-cd4a-447e-9660-702b2a0d3611",
   "metadata": {},
   "outputs": [
    {
     "data": {
      "text/plain": [
       "[PosixPath('../../data/01_raw/Hack the Planet/images/frameOutput/data/Bison - animals only/18RaulTarguluiAG/Hranitor/20210226_20210308/03070944_frames/image_570.jpg'),\n",
       " PosixPath('../../data/01_raw/Hack the Planet/images/frameOutput/data/Season5 - animals only/22RucarAG/Plaghia_Loc boncanit_2/20210915_20210930/09270074_frames/image_1230.jpg'),\n",
       " PosixPath('../../data/01_raw/Hack the Planet/images/frameOutput/data/Bison - animals only/21IzvoareleDamboviteiAG/Tamas/Sararie/20220519_20220523/05200571_frames/image_180.jpg'),\n",
       " PosixPath('../../data/01_raw/Hack the Planet/images/frameOutput/data/Bison - animals only/18RaulTarguluiAG/Hranitor/20210331_20210415/04100667_frames/image_30.jpg'),\n",
       " PosixPath('../../data/01_raw/Hack the Planet/images/frameOutput/data/Bison - animals only/18RaulTarguluiAG/Tarc desfacut/20210817_20210903/08280144_frames/image_120.jpg'),\n",
       " PosixPath('../../data/01_raw/Hack the Planet/images/frameOutput/data/Season1 - animals only/POST 28/BLIDARU_Bushnell_CC00YY_FCC-CAM-022/03260425_frames/image_240.jpg'),\n",
       " PosixPath('../../data/01_raw/Hack the Planet/images/frameOutput/data/Bison - animals only/21IzvoareleDamboviteiAG/Tamas/Vf. Tamas/20211129_20211229/12140022_frames/image_1680.jpg'),\n",
       " PosixPath('../../data/01_raw/Hack the Planet/images/frameOutput/data/Bison - animals only/21IzvoareleDamboviteiAG/Tamas/Vf. Tamas/20211129_20211229/12140043_frames/image_600.jpg'),\n",
       " PosixPath('../../data/01_raw/Hack the Planet/images/frameOutput/data/Bison - animals only/21IzvoareleDamboviteiAG/Poarta 2_Carantina/20210322_20210604/camera poarta 2/20210322_20210418/04170968_frames/image_390.jpg'),\n",
       " PosixPath('../../data/01_raw/Hack the Planet/images/frameOutput/data/Bison - animals only/21IzvoareleDamboviteiAG/Poarta 2_Carantina/20201223-20201230/12290040_frames/image_360.jpg')]"
      ]
     },
     "execution_count": 12,
     "metadata": {},
     "output_type": "execute_result"
    }
   ],
   "source": [
    "samples_without_bears"
   ]
  },
  {
   "cell_type": "code",
   "execution_count": null,
   "id": "970c2ca3-1200-4b0a-9572-5c44300a2e40",
   "metadata": {},
   "outputs": [],
   "source": []
  }
 ],
 "metadata": {
  "kernelspec": {
   "display_name": "Python 3 (ipykernel)",
   "language": "python",
   "name": "python3"
  },
  "language_info": {
   "codemirror_mode": {
    "name": "ipython",
    "version": 3
   },
   "file_extension": ".py",
   "mimetype": "text/x-python",
   "name": "python",
   "nbconvert_exporter": "python",
   "pygments_lexer": "ipython3",
   "version": "3.9.18"
  }
 },
 "nbformat": 4,
 "nbformat_minor": 5
}
