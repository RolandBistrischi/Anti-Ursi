{
 "cells": [
  {
   "cell_type": "code",
   "execution_count": 1,
   "metadata": {
    "executionInfo": {
     "elapsed": 349,
     "status": "ok",
     "timestamp": 1705676012979,
     "user": {
      "displayName": "Sako Arts",
      "userId": "05482374705640501907"
     },
     "user_tz": -60
    },
    "id": "LJYd_gLk1DbV"
   },
   "outputs": [],
   "source": [
    "import xml.etree.ElementTree as ET\n",
    "import xml\n",
    "import matplotlib.pyplot as plt\n",
    "import matplotlib.patches as patches\n",
    "from PIL import Image\n",
    "import IPython\n",
    "import os\n",
    "import json\n",
    "import random\n",
    "import numpy as np\n",
    "import requests\n",
    "from io import BytesIO\n",
    "import base64\n",
    "from math import trunc\n",
    "from PIL import Image as PILImage\n",
    "from PIL import ImageDraw as PILImageDraw\n",
    "from pathlib import Path\n",
    "from tqdm import tqdm\n",
    "import shutil"
   ]
  },
  {
   "cell_type": "code",
   "execution_count": 2,
   "metadata": {},
   "outputs": [],
   "source": [
    "def image_element_to_image_data(e: xml.etree.ElementTree.Element) -> dict:\n",
    "    boxes = e.findall('box')\n",
    "    boxes_data = []\n",
    "\n",
    "    def to_xy(e) -> dict:\n",
    "        return {'x': int(e.get('x')), 'y': int(e.get('y'))}\n",
    "        \n",
    "    for box in boxes:\n",
    "        htop = [p for p in box.findall('part') if p.get('name') == 'htop'][0]\n",
    "        lear = [p for p in box.findall('part') if p.get('name') == 'lear'][0]\n",
    "        rear = [p for p in box.findall('part') if p.get('name') == 'rear'][0]\n",
    "        nose = [p for p in box.findall('part') if p.get('name') == 'nose'][0]\n",
    "        leye = [p for p in box.findall('part') if p.get('name') == 'leye'][0]\n",
    "        reye = [p for p in box.findall('part') if p.get('name') == 'reye'][0]\n",
    "        data = {\n",
    "            \"top\": int(box.get(\"top\")), \n",
    "            \"left\": int(box.get(\"left\")), \n",
    "            \"width\": int(box.get(\"width\")), \n",
    "            \"height\": int(box.get(\"height\")),\n",
    "            'parts': {\n",
    "                'htop': to_xy(htop), \n",
    "                'lear': to_xy(lear), \n",
    "                'rear': to_xy(rear), \n",
    "                'nose': to_xy(nose), \n",
    "                'leye': to_xy(leye), \n",
    "                'reye': to_xy(reye)\n",
    "            }\n",
    "        }\n",
    "        boxes_data.append(data)\n",
    "\n",
    "    filepath = base_path / e.get(\"file\")\n",
    "    \n",
    "    return {\n",
    "        \"filepath\": filepath,\n",
    "        \"bboxes\": boxes_data,\n",
    "    }\n",
    "\n",
    "def parse_xml(filepath: Path) -> dict:\n",
    "    tree = ET.parse(label_path)\n",
    "    root = tree.getroot()\n",
    "    image_elements = root.find('images').findall('image')\n",
    "    return {\n",
    "        \"images\": [image_element_to_image_data(e) for e in image_elements],\n",
    "    }\n",
    "\n",
    "def load_xml(filepath: Path) -> dict:\n",
    "    xml_data =  parse_xml(label_path)\n",
    "    \n",
    "    # Add image size to image_data\n",
    "    for image_data in xml_data['images']:\n",
    "        image = Image.open(image_data['filepath'])\n",
    "        width, height = image.size\n",
    "        image_data['size'] = {'width': width, 'height': height}\n",
    "        \n",
    "    return xml_data"
   ]
  },
  {
   "cell_type": "code",
   "execution_count": 3,
   "metadata": {},
   "outputs": [],
   "source": [
    "def display_bbox(bbox, ax) -> None:\n",
    "    \n",
    "    # Ears\n",
    "    ax.plot(bbox['parts'][\"lear\"][\"x\"], bbox['parts'][\"lear\"][\"y\"], marker='x', color=\"yellow\") \n",
    "    ax.plot(bbox['parts'][\"rear\"][\"x\"], bbox['parts'][\"rear\"][\"y\"], marker='x', color=\"yellow\")  \n",
    "\n",
    "    # Head Top\n",
    "    ax.plot(bbox['parts'][\"htop\"][\"x\"], bbox['parts'][\"htop\"][\"y\"], marker='v', color=\"white\") \n",
    "\n",
    "    # Nose\n",
    "    ax.plot(bbox['parts'][\"nose\"][\"x\"], bbox['parts'][\"nose\"][\"y\"], marker='o', color=\"green\") \n",
    "\n",
    "    # Eyes\n",
    "    ax.plot(bbox['parts'][\"leye\"][\"x\"], bbox['parts'][\"leye\"][\"y\"], marker='x', color=\"blue\") \n",
    "    ax.plot(bbox['parts'][\"reye\"][\"x\"], bbox['parts'][\"reye\"][\"y\"], marker='x', color=\"blue\")  \n",
    "\n",
    "    rect = patches.Rectangle(\n",
    "        (bbox['left'], bbox['top']),\n",
    "        bbox['width'],\n",
    "        bbox['height'],\n",
    "        linewidth=2,\n",
    "        edgecolor='r',\n",
    "        facecolor='none'\n",
    "    )\n",
    "\n",
    "    ax.add_patch(rect)\n",
    "    return ax\n",
    "    \n",
    "\n",
    "def display_image_data(image_data):\n",
    "    image_path = image_data['filepath']\n",
    "    img = Image.open(image_path)\n",
    "    fig, ax = plt.subplots(1)\n",
    "    ax.imshow(img)\n",
    "\n",
    "    for bbox in image_data['bboxes']:\n",
    "        display_bbox(bbox, ax)\n",
    "    \n",
    "    plt.show()"
   ]
  },
  {
   "cell_type": "code",
   "execution_count": 4,
   "metadata": {},
   "outputs": [],
   "source": [
    "base_path = Path('../../data/01_raw/BearID/')\n",
    "label_path = base_path / 'images_train_without_bc.xml'"
   ]
  },
  {
   "cell_type": "code",
   "execution_count": 5,
   "metadata": {},
   "outputs": [],
   "source": [
    "xml_data = load_xml(label_path)"
   ]
  },
  {
   "cell_type": "code",
   "execution_count": 6,
   "metadata": {},
   "outputs": [
    {
     "data": {
      "text/plain": [
       "{'filepath': PosixPath('../../data/01_raw/BearID/images/brooksFalls/je_201708/bf_755/755-scare-d-bear-near-the-north-side-of-brooks-falls_9237775339_o.jpg'),\n",
       " 'bboxes': [{'top': 1059,\n",
       "   'left': 1172,\n",
       "   'width': 200,\n",
       "   'height': 200,\n",
       "   'parts': {'htop': {'x': 1283, 'y': 1068},\n",
       "    'lear': {'x': 1335, 'y': 1080},\n",
       "    'rear': {'x': 1228, 'y': 1084},\n",
       "    'nose': {'x': 1279, 'y': 1197},\n",
       "    'leye': {'x': 1324, 'y': 1132},\n",
       "    'reye': {'x': 1246, 'y': 1133}}}],\n",
       " 'size': {'width': 2000, 'height': 1500}}"
      ]
     },
     "execution_count": 6,
     "metadata": {},
     "output_type": "execute_result"
    }
   ],
   "source": [
    "xml_data['images'][0]"
   ]
  },
  {
   "cell_type": "code",
   "execution_count": 7,
   "metadata": {},
   "outputs": [],
   "source": [
    "def yolov8_bbox(bbox, size) -> dict:\n",
    "    \n",
    "    center_x = (bbox['left'] + bbox['width'] / 2.) / size['width']\n",
    "    center_y = (bbox['top'] + bbox['height'] / 2.) / size['height']\n",
    "    w = bbox['width'] / size['width']\n",
    "    h = bbox['height'] / size['height']\n",
    "    \n",
    "    assert 0. <= center_x <= 1.\n",
    "    assert 0. <= center_y <= 1.\n",
    "    assert 0. <= w <= 1.\n",
    "    assert 0. <= h <= 1.\n",
    "    \n",
    "    return {'center_x': center_x, 'center_y': center_y, 'w': w, 'h': h}\n",
    "\n",
    "\n",
    "def to_yolov8_txt_format(bbox, size) -> str:\n",
    "    class_num = 0 # We only detect bear faces\n",
    "    yolov8 = yolov8_bbox(bbox, size)\n",
    "    return f\"{class_num} {yolov8['center_x']} {yolov8['center_y']} {yolov8['w']} {yolov8['h']}\""
   ]
  },
  {
   "cell_type": "code",
   "execution_count": 8,
   "metadata": {},
   "outputs": [],
   "source": [
    "def build_yolov8_txt_format(xml_data, output_dir: Path):\n",
    "\n",
    "    # Creating the directories\n",
    "    os.makedirs(output_dir, exist_ok=True)\n",
    "    os.makedirs(output_dir / 'images', exist_ok=True)\n",
    "    os.makedirs(output_dir / 'labels', exist_ok=True)\n",
    "    \n",
    "    for image_data in tqdm(xml_data['images']):\n",
    "        filepath = image_data['filepath']\n",
    "        bboxes = image_data['bboxes']\n",
    "        image_size = image_data['size']\n",
    "        \n",
    "        # Copying the images\n",
    "        shutil.copy(filepath, output_dir / 'images' / filepath.name)\n",
    "\n",
    "        # Making the label files\n",
    "        label_content = \"\\n\".join([to_yolov8_txt_format(bbox, image_size) for bbox in bboxes])\n",
    "        with open(output_dir / 'labels' /  f\"{filepath.stem}.txt\", \"w\") as f:\n",
    "            f.write(label_content)"
   ]
  },
  {
   "cell_type": "code",
   "execution_count": 9,
   "metadata": {},
   "outputs": [
    {
     "name": "stderr",
     "output_type": "stream",
     "text": [
      "100%|████████████████████████████████████████████████████████████████████████████████████████████████████████| 2673/2673 [00:01<00:00, 1622.66it/s]\n"
     ]
    }
   ],
   "source": [
    "output_dir = Path('../../data/04_feature/bearfacedetection/v0/')\n",
    "build_yolov8_txt_format(xml_data, output_dir=output_dir)"
   ]
  }
 ],
 "metadata": {
  "colab": {
   "authorship_tag": "ABX9TyMPDDGNhcFvJrdcFCRCoEaN",
   "provenance": []
  },
  "kernelspec": {
   "display_name": "Python 3 (ipykernel)",
   "language": "python",
   "name": "python3"
  },
  "language_info": {
   "codemirror_mode": {
    "name": "ipython",
    "version": 3
   },
   "file_extension": ".py",
   "mimetype": "text/x-python",
   "name": "python",
   "nbconvert_exporter": "python",
   "pygments_lexer": "ipython3",
   "version": "3.9.18"
  }
 },
 "nbformat": 4,
 "nbformat_minor": 4
}
