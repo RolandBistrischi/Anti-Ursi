{
 "cells": [
  {
   "cell_type": "code",
   "execution_count": 1,
   "id": "ef809309-097d-4b7c-8c91-73667f3525ba",
   "metadata": {},
   "outputs": [
    {
     "name": "stderr",
     "output_type": "stream",
     "text": [
      "/tmp/ipykernel_259916/84951144.py:2: DeprecationWarning: \n",
      "Pyarrow will become a required dependency of pandas in the next major release of pandas (pandas 3.0),\n",
      "(to allow more performant data types, such as the Arrow string type, and better interoperability with other libraries)\n",
      "but was not found to be installed on your system.\n",
      "If this would cause problems for you,\n",
      "please provide us feedback at https://github.com/pandas-dev/pandas/issues/54466\n",
      "        \n",
      "  import pandas as pd\n"
     ]
    }
   ],
   "source": [
    "import os\n",
    "import pandas as pd\n",
    "from pathlib import Path\n",
    "from dateutil.parser import parse\n",
    "from datetime import datetime\n",
    "\n",
    "\n",
    "import matplotlib.pyplot as plt\n",
    "\n",
    "from beardataset.bearid import parse_chips_xml"
   ]
  },
  {
   "cell_type": "code",
   "execution_count": 2,
   "id": "99416a5c-ce3a-461f-a409-a8082d15e1ba",
   "metadata": {},
   "outputs": [],
   "source": [
    "def get_filepaths(root: Path, allowed_suffixes={\".jpg\", \".JPG\"}) -> list[Path]:\n",
    "    \"\"\"Lists all filepaths given a root directory `root`.\"\"\"\n",
    "    return [p for p in root.rglob(\"*\") if p.suffix in allowed_suffixes and p.exists()]"
   ]
  },
  {
   "cell_type": "code",
   "execution_count": 3,
   "id": "54d7e2fa-374a-4701-b1c2-ae19b7ec156d",
   "metadata": {},
   "outputs": [
    {
     "data": {
      "text/plain": [
       "4669"
      ]
     },
     "execution_count": 3,
     "metadata": {},
     "output_type": "execute_result"
    }
   ],
   "source": [
    "root_path_chips = Path(\"../../data/01_raw/BearID/chips/\")\n",
    "filepaths = get_filepaths(root_path_chips)\n",
    "len(filepaths)"
   ]
  },
  {
   "cell_type": "code",
   "execution_count": 4,
   "id": "e78f5422-f332-4d3f-b765-f898eb5541c1",
   "metadata": {},
   "outputs": [],
   "source": [
    "base_path = Path(\"../../data/01_raw/BearID/\")\n",
    "\n",
    "label_train_filepath = base_path / \"chips_train.xml\"\n",
    "label_val_filepath = base_path / \"chips_val.xml\"\n",
    "label_test_filepath = base_path / \"chips_test.xml\"\n",
    "\n",
    "data_train = parse_chips_xml(base_path=base_path, filepath=label_train_filepath)\n",
    "data_val = parse_chips_xml(base_path=base_path, filepath=label_val_filepath)\n",
    "data_test = parse_chips_xml(base_path=base_path, filepath=label_test_filepath)"
   ]
  },
  {
   "cell_type": "code",
   "execution_count": 5,
   "id": "0a520d13-3bee-4d15-999f-a077b3e89d7c",
   "metadata": {},
   "outputs": [
    {
     "data": {
      "text/plain": [
       "{'label': 'bf_755',\n",
       " 'resolution': 6400,\n",
       " 'filepath': PosixPath('../../data/01_raw/BearID/chips/brooksFalls/nps_library_201709/bf_755/755_073104_02_chip_0.jpg'),\n",
       " 'source': PosixPath('../../data/01_raw/BearID/images/brooksFalls/nps_library_201709/bf_755/755_073104_02.jpg'),\n",
       " 'box': {'label': 'bf_755',\n",
       "  'top': 407,\n",
       "  'left': 527,\n",
       "  'width': 80,\n",
       "  'height': 80,\n",
       "  'parts': {'htop': {'x': 0, 'y': 0},\n",
       "   'lear': {'x': 592, 'y': 415},\n",
       "   'rear': {'x': 546, 'y': 417},\n",
       "   'nose': {'x': 563, 'y': 461},\n",
       "   'leye': {'x': 582, 'y': 431},\n",
       "   'reye': {'x': 558, 'y': 431}}},\n",
       " 'dimensions': {'width': 150, 'height': 150}}"
      ]
     },
     "execution_count": 5,
     "metadata": {},
     "output_type": "execute_result"
    }
   ],
   "source": [
    "data_test[\"chips\"][0]"
   ]
  },
  {
   "cell_type": "code",
   "execution_count": 6,
   "id": "1cd9cffa-41ba-4c39-8834-66afd7a1fbf2",
   "metadata": {},
   "outputs": [
    {
     "data": {
      "text/html": [
       "<div>\n",
       "<style scoped>\n",
       "    .dataframe tbody tr th:only-of-type {\n",
       "        vertical-align: middle;\n",
       "    }\n",
       "\n",
       "    .dataframe tbody tr th {\n",
       "        vertical-align: top;\n",
       "    }\n",
       "\n",
       "    .dataframe thead th {\n",
       "        text-align: right;\n",
       "    }\n",
       "</style>\n",
       "<table border=\"1\" class=\"dataframe\">\n",
       "  <thead>\n",
       "    <tr style=\"text-align: right;\">\n",
       "      <th></th>\n",
       "      <th>split</th>\n",
       "      <th>label</th>\n",
       "      <th>resolution</th>\n",
       "      <th>filepath</th>\n",
       "      <th>source</th>\n",
       "      <th>box</th>\n",
       "      <th>dimensions</th>\n",
       "    </tr>\n",
       "  </thead>\n",
       "  <tbody>\n",
       "    <tr>\n",
       "      <th>0</th>\n",
       "      <td>test</td>\n",
       "      <td>bf_755</td>\n",
       "      <td>6400</td>\n",
       "      <td>../../data/01_raw/BearID/chips/brooksFalls/nps...</td>\n",
       "      <td>../../data/01_raw/BearID/images/brooksFalls/np...</td>\n",
       "      <td>{'label': 'bf_755', 'top': 407, 'left': 527, '...</td>\n",
       "      <td>{'width': 150, 'height': 150}</td>\n",
       "    </tr>\n",
       "    <tr>\n",
       "      <th>1</th>\n",
       "      <td>test</td>\n",
       "      <td>bf_755</td>\n",
       "      <td>80940</td>\n",
       "      <td>../../data/01_raw/BearID/chips/brooksFalls/fi_...</td>\n",
       "      <td>../../data/01_raw/BearID/images/brooksFalls/fi...</td>\n",
       "      <td>{'label': 'bf_755', 'top': 421, 'left': 1073, ...</td>\n",
       "      <td>{'width': 150, 'height': 150}</td>\n",
       "    </tr>\n",
       "    <tr>\n",
       "      <th>2</th>\n",
       "      <td>test</td>\n",
       "      <td>bf_755</td>\n",
       "      <td>56628</td>\n",
       "      <td>../../data/01_raw/BearID/chips/brooksFalls/bea...</td>\n",
       "      <td>../../data/01_raw/BearID/images/brooksFalls/be...</td>\n",
       "      <td>{'label': 'bf_755', 'top': 359, 'left': 390, '...</td>\n",
       "      <td>{'width': 150, 'height': 150}</td>\n",
       "    </tr>\n",
       "    <tr>\n",
       "      <th>3</th>\n",
       "      <td>test</td>\n",
       "      <td>bf_755</td>\n",
       "      <td>39204</td>\n",
       "      <td>../../data/01_raw/BearID/chips/brooksFalls/je_...</td>\n",
       "      <td>../../data/01_raw/BearID/images/brooksFalls/je...</td>\n",
       "      <td>{'label': 'bf_755', 'top': 476, 'left': 598, '...</td>\n",
       "      <td>{'width': 150, 'height': 150}</td>\n",
       "    </tr>\n",
       "    <tr>\n",
       "      <th>4</th>\n",
       "      <td>test</td>\n",
       "      <td>bf_755</td>\n",
       "      <td>6400</td>\n",
       "      <td>../../data/01_raw/BearID/chips/brooksFalls/nps...</td>\n",
       "      <td>../../data/01_raw/BearID/images/brooksFalls/np...</td>\n",
       "      <td>{'label': 'bf_755', 'top': 295, 'left': 495, '...</td>\n",
       "      <td>{'width': 150, 'height': 150}</td>\n",
       "    </tr>\n",
       "  </tbody>\n",
       "</table>\n",
       "</div>"
      ],
      "text/plain": [
       "  split   label  resolution  \\\n",
       "0  test  bf_755        6400   \n",
       "1  test  bf_755       80940   \n",
       "2  test  bf_755       56628   \n",
       "3  test  bf_755       39204   \n",
       "4  test  bf_755        6400   \n",
       "\n",
       "                                            filepath  \\\n",
       "0  ../../data/01_raw/BearID/chips/brooksFalls/nps...   \n",
       "1  ../../data/01_raw/BearID/chips/brooksFalls/fi_...   \n",
       "2  ../../data/01_raw/BearID/chips/brooksFalls/bea...   \n",
       "3  ../../data/01_raw/BearID/chips/brooksFalls/je_...   \n",
       "4  ../../data/01_raw/BearID/chips/brooksFalls/nps...   \n",
       "\n",
       "                                              source  \\\n",
       "0  ../../data/01_raw/BearID/images/brooksFalls/np...   \n",
       "1  ../../data/01_raw/BearID/images/brooksFalls/fi...   \n",
       "2  ../../data/01_raw/BearID/images/brooksFalls/be...   \n",
       "3  ../../data/01_raw/BearID/images/brooksFalls/je...   \n",
       "4  ../../data/01_raw/BearID/images/brooksFalls/np...   \n",
       "\n",
       "                                                 box  \\\n",
       "0  {'label': 'bf_755', 'top': 407, 'left': 527, '...   \n",
       "1  {'label': 'bf_755', 'top': 421, 'left': 1073, ...   \n",
       "2  {'label': 'bf_755', 'top': 359, 'left': 390, '...   \n",
       "3  {'label': 'bf_755', 'top': 476, 'left': 598, '...   \n",
       "4  {'label': 'bf_755', 'top': 295, 'left': 495, '...   \n",
       "\n",
       "                      dimensions  \n",
       "0  {'width': 150, 'height': 150}  \n",
       "1  {'width': 150, 'height': 150}  \n",
       "2  {'width': 150, 'height': 150}  \n",
       "3  {'width': 150, 'height': 150}  \n",
       "4  {'width': 150, 'height': 150}  "
      ]
     },
     "execution_count": 6,
     "metadata": {},
     "output_type": "execute_result"
    }
   ],
   "source": [
    "data = [\n",
    "    *[{'split': 'test', **d} for d in data_test[\"chips\"]],\n",
    "    *[{'split': 'val', **d} for d in data_val[\"chips\"]],\n",
    "    *[{'split': 'train', **d} for d in data_train[\"chips\"]],\n",
    "]\n",
    "\n",
    "df = pd.DataFrame(data)\n",
    "df.head()"
   ]
  },
  {
   "cell_type": "code",
   "execution_count": 7,
   "id": "7a27b89f-287e-4922-81d1-a66a4b1dabc8",
   "metadata": {},
   "outputs": [],
   "source": [
    "def region(label: str) -> str:\n",
    "    return label[:2]\n",
    "\n",
    "def info(filepath: Path) -> str:\n",
    "    return filepath.parent.parent.name\n",
    "\n",
    "def date(filepath: Path):\n",
    "    info = filepath.parent.parent.name.split(\"_\")\n",
    "    date_str = info[-1]\n",
    "    origin = \"_\".join(info[:-1])\n",
    "\n",
    "    if len(date_str) == 4:\n",
    "         return datetime.strptime(date_str, \"%Y\")\n",
    "    elif len(date_str) == 6:\n",
    "        return datetime.strptime(date_str, \"%Y%m\")\n",
    "    elif len(date_str) == 8:\n",
    "        return datetime.strptime(date_str, \"%Y%m%d\")\n",
    "    else:\n",
    "        return None"
   ]
  },
  {
   "cell_type": "code",
   "execution_count": 8,
   "id": "7c9ccd04-8559-4770-ba0d-d0a72e299e14",
   "metadata": {},
   "outputs": [
    {
     "name": "stdout",
     "output_type": "stream",
     "text": [
      "<class 'pandas.core.frame.DataFrame'>\n",
      "RangeIndex: 4669 entries, 0 to 4668\n",
      "Data columns (total 10 columns):\n",
      " #   Column      Non-Null Count  Dtype         \n",
      "---  ------      --------------  -----         \n",
      " 0   split       4669 non-null   object        \n",
      " 1   label       4669 non-null   object        \n",
      " 2   resolution  4669 non-null   int64         \n",
      " 3   filepath    4669 non-null   object        \n",
      " 4   source      4669 non-null   object        \n",
      " 5   box         4669 non-null   object        \n",
      " 6   dimensions  4669 non-null   object        \n",
      " 7   region      4669 non-null   object        \n",
      " 8   info        4669 non-null   object        \n",
      " 9   date        4669 non-null   datetime64[ns]\n",
      "dtypes: datetime64[ns](1), int64(1), object(8)\n",
      "memory usage: 364.9+ KB\n"
     ]
    }
   ],
   "source": [
    "# Preprocessing the dataframe \n",
    "df[\"region\"] = df[\"label\"].map(region)\n",
    "df[\"info\"] = df[\"filepath\"].map(info)\n",
    "# The best would be to get the metadata date from the image... It seems to be missing though\n",
    "df[\"date\"] = df[\"filepath\"].map(date)\n",
    "\n",
    "df.info()"
   ]
  },
  {
   "cell_type": "code",
   "execution_count": 9,
   "id": "ac2f07bb-d36e-49c0-ba10-92d4a37d0695",
   "metadata": {},
   "outputs": [
    {
     "data": {
      "text/html": [
       "<div>\n",
       "<style scoped>\n",
       "    .dataframe tbody tr th:only-of-type {\n",
       "        vertical-align: middle;\n",
       "    }\n",
       "\n",
       "    .dataframe tbody tr th {\n",
       "        vertical-align: top;\n",
       "    }\n",
       "\n",
       "    .dataframe thead th {\n",
       "        text-align: right;\n",
       "    }\n",
       "</style>\n",
       "<table border=\"1\" class=\"dataframe\">\n",
       "  <thead>\n",
       "    <tr style=\"text-align: right;\">\n",
       "      <th></th>\n",
       "      <th>split</th>\n",
       "      <th>label</th>\n",
       "      <th>resolution</th>\n",
       "      <th>filepath</th>\n",
       "      <th>source</th>\n",
       "      <th>box</th>\n",
       "      <th>dimensions</th>\n",
       "      <th>region</th>\n",
       "      <th>info</th>\n",
       "      <th>date</th>\n",
       "    </tr>\n",
       "  </thead>\n",
       "  <tbody>\n",
       "    <tr>\n",
       "      <th>0</th>\n",
       "      <td>test</td>\n",
       "      <td>bf_755</td>\n",
       "      <td>6400</td>\n",
       "      <td>../../data/01_raw/BearID/chips/brooksFalls/nps...</td>\n",
       "      <td>../../data/01_raw/BearID/images/brooksFalls/np...</td>\n",
       "      <td>{'label': 'bf_755', 'top': 407, 'left': 527, '...</td>\n",
       "      <td>{'width': 150, 'height': 150}</td>\n",
       "      <td>bf</td>\n",
       "      <td>nps_library_201709</td>\n",
       "      <td>2017-09-01</td>\n",
       "    </tr>\n",
       "    <tr>\n",
       "      <th>1</th>\n",
       "      <td>test</td>\n",
       "      <td>bf_755</td>\n",
       "      <td>80940</td>\n",
       "      <td>../../data/01_raw/BearID/chips/brooksFalls/fi_...</td>\n",
       "      <td>../../data/01_raw/BearID/images/brooksFalls/fi...</td>\n",
       "      <td>{'label': 'bf_755', 'top': 421, 'left': 1073, ...</td>\n",
       "      <td>{'width': 150, 'height': 150}</td>\n",
       "      <td>bf</td>\n",
       "      <td>fi_2015_2016</td>\n",
       "      <td>2016-01-01</td>\n",
       "    </tr>\n",
       "    <tr>\n",
       "      <th>2</th>\n",
       "      <td>test</td>\n",
       "      <td>bf_755</td>\n",
       "      <td>56628</td>\n",
       "      <td>../../data/01_raw/BearID/chips/brooksFalls/bea...</td>\n",
       "      <td>../../data/01_raw/BearID/images/brooksFalls/be...</td>\n",
       "      <td>{'label': 'bf_755', 'top': 359, 'left': 390, '...</td>\n",
       "      <td>{'width': 150, 'height': 150}</td>\n",
       "      <td>bf</td>\n",
       "      <td>bear_mon_201607</td>\n",
       "      <td>2016-07-01</td>\n",
       "    </tr>\n",
       "    <tr>\n",
       "      <th>3</th>\n",
       "      <td>test</td>\n",
       "      <td>bf_755</td>\n",
       "      <td>39204</td>\n",
       "      <td>../../data/01_raw/BearID/chips/brooksFalls/je_...</td>\n",
       "      <td>../../data/01_raw/BearID/images/brooksFalls/je...</td>\n",
       "      <td>{'label': 'bf_755', 'top': 476, 'left': 598, '...</td>\n",
       "      <td>{'width': 150, 'height': 150}</td>\n",
       "      <td>bf</td>\n",
       "      <td>je_201708</td>\n",
       "      <td>2017-08-01</td>\n",
       "    </tr>\n",
       "    <tr>\n",
       "      <th>4</th>\n",
       "      <td>test</td>\n",
       "      <td>bf_755</td>\n",
       "      <td>6400</td>\n",
       "      <td>../../data/01_raw/BearID/chips/brooksFalls/nps...</td>\n",
       "      <td>../../data/01_raw/BearID/images/brooksFalls/np...</td>\n",
       "      <td>{'label': 'bf_755', 'top': 295, 'left': 495, '...</td>\n",
       "      <td>{'width': 150, 'height': 150}</td>\n",
       "      <td>bf</td>\n",
       "      <td>nps_library_201709</td>\n",
       "      <td>2017-09-01</td>\n",
       "    </tr>\n",
       "  </tbody>\n",
       "</table>\n",
       "</div>"
      ],
      "text/plain": [
       "  split   label  resolution  \\\n",
       "0  test  bf_755        6400   \n",
       "1  test  bf_755       80940   \n",
       "2  test  bf_755       56628   \n",
       "3  test  bf_755       39204   \n",
       "4  test  bf_755        6400   \n",
       "\n",
       "                                            filepath  \\\n",
       "0  ../../data/01_raw/BearID/chips/brooksFalls/nps...   \n",
       "1  ../../data/01_raw/BearID/chips/brooksFalls/fi_...   \n",
       "2  ../../data/01_raw/BearID/chips/brooksFalls/bea...   \n",
       "3  ../../data/01_raw/BearID/chips/brooksFalls/je_...   \n",
       "4  ../../data/01_raw/BearID/chips/brooksFalls/nps...   \n",
       "\n",
       "                                              source  \\\n",
       "0  ../../data/01_raw/BearID/images/brooksFalls/np...   \n",
       "1  ../../data/01_raw/BearID/images/brooksFalls/fi...   \n",
       "2  ../../data/01_raw/BearID/images/brooksFalls/be...   \n",
       "3  ../../data/01_raw/BearID/images/brooksFalls/je...   \n",
       "4  ../../data/01_raw/BearID/images/brooksFalls/np...   \n",
       "\n",
       "                                                 box  \\\n",
       "0  {'label': 'bf_755', 'top': 407, 'left': 527, '...   \n",
       "1  {'label': 'bf_755', 'top': 421, 'left': 1073, ...   \n",
       "2  {'label': 'bf_755', 'top': 359, 'left': 390, '...   \n",
       "3  {'label': 'bf_755', 'top': 476, 'left': 598, '...   \n",
       "4  {'label': 'bf_755', 'top': 295, 'left': 495, '...   \n",
       "\n",
       "                      dimensions region                info       date  \n",
       "0  {'width': 150, 'height': 150}     bf  nps_library_201709 2017-09-01  \n",
       "1  {'width': 150, 'height': 150}     bf        fi_2015_2016 2016-01-01  \n",
       "2  {'width': 150, 'height': 150}     bf     bear_mon_201607 2016-07-01  \n",
       "3  {'width': 150, 'height': 150}     bf           je_201708 2017-08-01  \n",
       "4  {'width': 150, 'height': 150}     bf  nps_library_201709 2017-09-01  "
      ]
     },
     "execution_count": 9,
     "metadata": {},
     "output_type": "execute_result"
    }
   ],
   "source": [
    "df.head()"
   ]
  },
  {
   "cell_type": "code",
   "execution_count": 10,
   "id": "1a74c53f-5ade-42ee-8e50-649dd1d8ce67",
   "metadata": {},
   "outputs": [
    {
     "data": {
      "text/html": [
       "<div>\n",
       "<style scoped>\n",
       "    .dataframe tbody tr th:only-of-type {\n",
       "        vertical-align: middle;\n",
       "    }\n",
       "\n",
       "    .dataframe tbody tr th {\n",
       "        vertical-align: top;\n",
       "    }\n",
       "\n",
       "    .dataframe thead th {\n",
       "        text-align: right;\n",
       "    }\n",
       "</style>\n",
       "<table border=\"1\" class=\"dataframe\">\n",
       "  <thead>\n",
       "    <tr style=\"text-align: right;\">\n",
       "      <th></th>\n",
       "      <th>counts</th>\n",
       "    </tr>\n",
       "    <tr>\n",
       "      <th>region</th>\n",
       "      <th></th>\n",
       "    </tr>\n",
       "  </thead>\n",
       "  <tbody>\n",
       "    <tr>\n",
       "      <th>bc</th>\n",
       "      <td>1297</td>\n",
       "    </tr>\n",
       "    <tr>\n",
       "      <th>bf</th>\n",
       "      <td>3372</td>\n",
       "    </tr>\n",
       "  </tbody>\n",
       "</table>\n",
       "</div>"
      ],
      "text/plain": [
       "        counts\n",
       "region        \n",
       "bc        1297\n",
       "bf        3372"
      ]
     },
     "execution_count": 10,
     "metadata": {},
     "output_type": "execute_result"
    }
   ],
   "source": [
    "df.groupby([\"region\"]).size().reset_index(name=\"counts\").set_index(\"region\")"
   ]
  },
  {
   "cell_type": "code",
   "execution_count": 11,
   "id": "b8a46f52-0191-421d-94ba-b207b5bf1b4f",
   "metadata": {},
   "outputs": [
    {
     "data": {
      "text/html": [
       "<div>\n",
       "<style scoped>\n",
       "    .dataframe tbody tr th:only-of-type {\n",
       "        vertical-align: middle;\n",
       "    }\n",
       "\n",
       "    .dataframe tbody tr th {\n",
       "        vertical-align: top;\n",
       "    }\n",
       "\n",
       "    .dataframe thead th {\n",
       "        text-align: right;\n",
       "    }\n",
       "</style>\n",
       "<table border=\"1\" class=\"dataframe\">\n",
       "  <thead>\n",
       "    <tr style=\"text-align: right;\">\n",
       "      <th></th>\n",
       "      <th>counts</th>\n",
       "    </tr>\n",
       "    <tr>\n",
       "      <th>info</th>\n",
       "      <th></th>\n",
       "    </tr>\n",
       "  </thead>\n",
       "  <tbody>\n",
       "    <tr>\n",
       "      <th>melanie_20170828</th>\n",
       "      <td>1297</td>\n",
       "    </tr>\n",
       "    <tr>\n",
       "      <th>fa_2015_2016</th>\n",
       "      <td>840</td>\n",
       "    </tr>\n",
       "    <tr>\n",
       "      <th>ko_201709</th>\n",
       "      <td>453</td>\n",
       "    </tr>\n",
       "    <tr>\n",
       "      <th>bear_mon_201407</th>\n",
       "      <td>404</td>\n",
       "    </tr>\n",
       "    <tr>\n",
       "      <th>bear_mon_201507</th>\n",
       "      <td>330</td>\n",
       "    </tr>\n",
       "    <tr>\n",
       "      <th>bear_mon_201607</th>\n",
       "      <td>301</td>\n",
       "    </tr>\n",
       "    <tr>\n",
       "      <th>bear_mon_201509</th>\n",
       "      <td>213</td>\n",
       "    </tr>\n",
       "    <tr>\n",
       "      <th>bear_mon_201609</th>\n",
       "      <td>199</td>\n",
       "    </tr>\n",
       "    <tr>\n",
       "      <th>nps_library_201709</th>\n",
       "      <td>135</td>\n",
       "    </tr>\n",
       "    <tr>\n",
       "      <th>je_201708</th>\n",
       "      <td>122</td>\n",
       "    </tr>\n",
       "    <tr>\n",
       "      <th>an_201708</th>\n",
       "      <td>104</td>\n",
       "    </tr>\n",
       "    <tr>\n",
       "      <th>la_201705</th>\n",
       "      <td>91</td>\n",
       "    </tr>\n",
       "    <tr>\n",
       "      <th>ra_201709</th>\n",
       "      <td>60</td>\n",
       "    </tr>\n",
       "    <tr>\n",
       "      <th>bear_mon_201409</th>\n",
       "      <td>49</td>\n",
       "    </tr>\n",
       "    <tr>\n",
       "      <th>fi_2015_2016</th>\n",
       "      <td>33</td>\n",
       "    </tr>\n",
       "    <tr>\n",
       "      <th>fr_201708</th>\n",
       "      <td>22</td>\n",
       "    </tr>\n",
       "    <tr>\n",
       "      <th>misc_20170907</th>\n",
       "      <td>16</td>\n",
       "    </tr>\n",
       "  </tbody>\n",
       "</table>\n",
       "</div>"
      ],
      "text/plain": [
       "                    counts\n",
       "info                      \n",
       "melanie_20170828      1297\n",
       "fa_2015_2016           840\n",
       "ko_201709              453\n",
       "bear_mon_201407        404\n",
       "bear_mon_201507        330\n",
       "bear_mon_201607        301\n",
       "bear_mon_201509        213\n",
       "bear_mon_201609        199\n",
       "nps_library_201709     135\n",
       "je_201708              122\n",
       "an_201708              104\n",
       "la_201705               91\n",
       "ra_201709               60\n",
       "bear_mon_201409         49\n",
       "fi_2015_2016            33\n",
       "fr_201708               22\n",
       "misc_20170907           16"
      ]
     },
     "execution_count": 11,
     "metadata": {},
     "output_type": "execute_result"
    }
   ],
   "source": [
    "df.groupby([\"info\"]).size().reset_index(name=\"counts\").set_index(\"info\").sort_values(\"counts\", ascending=False)"
   ]
  },
  {
   "cell_type": "code",
   "execution_count": 12,
   "id": "c1217e96-4fd7-430d-ad3f-6f7dc6b0b92a",
   "metadata": {},
   "outputs": [
    {
     "data": {
      "text/html": [
       "<div>\n",
       "<style scoped>\n",
       "    .dataframe tbody tr th:only-of-type {\n",
       "        vertical-align: middle;\n",
       "    }\n",
       "\n",
       "    .dataframe tbody tr th {\n",
       "        vertical-align: top;\n",
       "    }\n",
       "\n",
       "    .dataframe thead th {\n",
       "        text-align: right;\n",
       "    }\n",
       "</style>\n",
       "<table border=\"1\" class=\"dataframe\">\n",
       "  <thead>\n",
       "    <tr style=\"text-align: right;\">\n",
       "      <th></th>\n",
       "      <th>info</th>\n",
       "      <th>label</th>\n",
       "      <th>counts</th>\n",
       "    </tr>\n",
       "  </thead>\n",
       "  <tbody>\n",
       "    <tr>\n",
       "      <th>222</th>\n",
       "      <td>fa_2015_2016</td>\n",
       "      <td>bf_775</td>\n",
       "      <td>174</td>\n",
       "    </tr>\n",
       "    <tr>\n",
       "      <th>213</th>\n",
       "      <td>fa_2015_2016</td>\n",
       "      <td>bf_480</td>\n",
       "      <td>115</td>\n",
       "    </tr>\n",
       "    <tr>\n",
       "      <th>320</th>\n",
       "      <td>melanie_20170828</td>\n",
       "      <td>bc_bella</td>\n",
       "      <td>83</td>\n",
       "    </tr>\n",
       "    <tr>\n",
       "      <th>317</th>\n",
       "      <td>melanie_20170828</td>\n",
       "      <td>bc_amber</td>\n",
       "      <td>81</td>\n",
       "    </tr>\n",
       "    <tr>\n",
       "      <th>290</th>\n",
       "      <td>ko_201709</td>\n",
       "      <td>bf_151</td>\n",
       "      <td>81</td>\n",
       "    </tr>\n",
       "    <tr>\n",
       "      <th>...</th>\n",
       "      <td>...</td>\n",
       "      <td>...</td>\n",
       "      <td>...</td>\n",
       "    </tr>\n",
       "    <tr>\n",
       "      <th>79</th>\n",
       "      <td>bear_mon_201409</td>\n",
       "      <td>bf_747</td>\n",
       "      <td>1</td>\n",
       "    </tr>\n",
       "    <tr>\n",
       "      <th>84</th>\n",
       "      <td>bear_mon_201409</td>\n",
       "      <td>bf_868</td>\n",
       "      <td>1</td>\n",
       "    </tr>\n",
       "    <tr>\n",
       "      <th>243</th>\n",
       "      <td>fi_2015_2016</td>\n",
       "      <td>bf_854</td>\n",
       "      <td>1</td>\n",
       "    </tr>\n",
       "    <tr>\n",
       "      <th>336</th>\n",
       "      <td>melanie_20170828</td>\n",
       "      <td>bc_freda</td>\n",
       "      <td>1</td>\n",
       "    </tr>\n",
       "    <tr>\n",
       "      <th>72</th>\n",
       "      <td>bear_mon_201409</td>\n",
       "      <td>bf_480</td>\n",
       "      <td>1</td>\n",
       "    </tr>\n",
       "  </tbody>\n",
       "</table>\n",
       "<p>412 rows × 3 columns</p>\n",
       "</div>"
      ],
      "text/plain": [
       "                 info     label  counts\n",
       "222      fa_2015_2016    bf_775     174\n",
       "213      fa_2015_2016    bf_480     115\n",
       "320  melanie_20170828  bc_bella      83\n",
       "317  melanie_20170828  bc_amber      81\n",
       "290         ko_201709    bf_151      81\n",
       "..                ...       ...     ...\n",
       "79    bear_mon_201409    bf_747       1\n",
       "84    bear_mon_201409    bf_868       1\n",
       "243      fi_2015_2016    bf_854       1\n",
       "336  melanie_20170828  bc_freda       1\n",
       "72    bear_mon_201409    bf_480       1\n",
       "\n",
       "[412 rows x 3 columns]"
      ]
     },
     "execution_count": 12,
     "metadata": {},
     "output_type": "execute_result"
    }
   ],
   "source": [
    "df.groupby([\"info\", \"label\"]).size().reset_index(name=\"counts\").sort_values(\"counts\", ascending=False)"
   ]
  },
  {
   "cell_type": "markdown",
   "id": "26a5fa7a-546d-4ba3-b325-05bf98e88c26",
   "metadata": {},
   "source": [
    "Many bear individuals are taken from the same `info` (year and photographer) - which could lead to dataleaks if they end up in different splits."
   ]
  },
  {
   "cell_type": "code",
   "execution_count": 13,
   "id": "3d274bc0-b1a1-46ec-95a5-9082701b4206",
   "metadata": {},
   "outputs": [
    {
     "data": {
      "text/html": [
       "<div>\n",
       "<style scoped>\n",
       "    .dataframe tbody tr th:only-of-type {\n",
       "        vertical-align: middle;\n",
       "    }\n",
       "\n",
       "    .dataframe tbody tr th {\n",
       "        vertical-align: top;\n",
       "    }\n",
       "\n",
       "    .dataframe thead th {\n",
       "        text-align: right;\n",
       "    }\n",
       "</style>\n",
       "<table border=\"1\" class=\"dataframe\">\n",
       "  <thead>\n",
       "    <tr style=\"text-align: right;\">\n",
       "      <th></th>\n",
       "      <th>info</th>\n",
       "      <th>label</th>\n",
       "      <th>counts</th>\n",
       "    </tr>\n",
       "  </thead>\n",
       "  <tbody>\n",
       "    <tr>\n",
       "      <th>305</th>\n",
       "      <td>ko_201709</td>\n",
       "      <td>bf_879</td>\n",
       "      <td>21</td>\n",
       "    </tr>\n",
       "    <tr>\n",
       "      <th>148</th>\n",
       "      <td>bear_mon_201509</td>\n",
       "      <td>bf_879</td>\n",
       "      <td>2</td>\n",
       "    </tr>\n",
       "    <tr>\n",
       "      <th>85</th>\n",
       "      <td>bear_mon_201409</td>\n",
       "      <td>bf_879</td>\n",
       "      <td>2</td>\n",
       "    </tr>\n",
       "    <tr>\n",
       "      <th>377</th>\n",
       "      <td>misc_20170907</td>\n",
       "      <td>bf_879</td>\n",
       "      <td>6</td>\n",
       "    </tr>\n",
       "    <tr>\n",
       "      <th>200</th>\n",
       "      <td>bear_mon_201609</td>\n",
       "      <td>bf_879</td>\n",
       "      <td>9</td>\n",
       "    </tr>\n",
       "    <tr>\n",
       "      <th>...</th>\n",
       "      <td>...</td>\n",
       "      <td>...</td>\n",
       "      <td>...</td>\n",
       "    </tr>\n",
       "    <tr>\n",
       "      <th>319</th>\n",
       "      <td>melanie_20170828</td>\n",
       "      <td>bc_beatrice</td>\n",
       "      <td>50</td>\n",
       "    </tr>\n",
       "    <tr>\n",
       "      <th>318</th>\n",
       "      <td>melanie_20170828</td>\n",
       "      <td>bc_aurora</td>\n",
       "      <td>11</td>\n",
       "    </tr>\n",
       "    <tr>\n",
       "      <th>317</th>\n",
       "      <td>melanie_20170828</td>\n",
       "      <td>bc_amber</td>\n",
       "      <td>81</td>\n",
       "    </tr>\n",
       "    <tr>\n",
       "      <th>316</th>\n",
       "      <td>melanie_20170828</td>\n",
       "      <td>bc_also</td>\n",
       "      <td>23</td>\n",
       "    </tr>\n",
       "    <tr>\n",
       "      <th>315</th>\n",
       "      <td>melanie_20170828</td>\n",
       "      <td>bc_adeane</td>\n",
       "      <td>1</td>\n",
       "    </tr>\n",
       "  </tbody>\n",
       "</table>\n",
       "<p>412 rows × 3 columns</p>\n",
       "</div>"
      ],
      "text/plain": [
       "                 info        label  counts\n",
       "305         ko_201709       bf_879      21\n",
       "148   bear_mon_201509       bf_879       2\n",
       "85    bear_mon_201409       bf_879       2\n",
       "377     misc_20170907       bf_879       6\n",
       "200   bear_mon_201609       bf_879       9\n",
       "..                ...          ...     ...\n",
       "319  melanie_20170828  bc_beatrice      50\n",
       "318  melanie_20170828    bc_aurora      11\n",
       "317  melanie_20170828     bc_amber      81\n",
       "316  melanie_20170828      bc_also      23\n",
       "315  melanie_20170828    bc_adeane       1\n",
       "\n",
       "[412 rows x 3 columns]"
      ]
     },
     "execution_count": 13,
     "metadata": {},
     "output_type": "execute_result"
    }
   ],
   "source": [
    "df.groupby([\"info\", \"label\"]).size().reset_index(name=\"counts\").sort_values(\"label\", ascending=False)"
   ]
  },
  {
   "cell_type": "markdown",
   "id": "a7a0b7e7-8922-465b-958b-e313993364e5",
   "metadata": {},
   "source": [
    "Bears individuals are scattered across different info (photographers, years, etc)"
   ]
  },
  {
   "cell_type": "code",
   "execution_count": 14,
   "id": "4e151a79-fb61-470d-ac96-97380c7c223e",
   "metadata": {},
   "outputs": [
    {
     "data": {
      "text/plain": [
       "<Axes: xlabel='region'>"
      ]
     },
     "execution_count": 14,
     "metadata": {},
     "output_type": "execute_result"
    },
    {
     "data": {
      "image/png": "[encoded data removed]",
      "text/plain": [
       "<Figure size 640x480 with 1 Axes>"
      ]
     },
     "metadata": {},
     "output_type": "display_data"
    }
   ],
   "source": [
    "df.groupby([\"region\"]).size().reset_index(name=\"counts\").set_index(\"region\").plot.bar()"
   ]
  },
  {
   "cell_type": "code",
   "execution_count": 15,
   "id": "2b80b371-1465-4a76-883a-44e94fae1ea0",
   "metadata": {},
   "outputs": [
    {
     "name": "stdout",
     "output_type": "stream",
     "text": [
      "<class 'pandas.core.frame.DataFrame'>\n",
      "RangeIndex: 4669 entries, 0 to 4668\n",
      "Data columns (total 10 columns):\n",
      " #   Column      Non-Null Count  Dtype         \n",
      "---  ------      --------------  -----         \n",
      " 0   split       4669 non-null   object        \n",
      " 1   label       4669 non-null   object        \n",
      " 2   resolution  4669 non-null   int64         \n",
      " 3   filepath    4669 non-null   object        \n",
      " 4   source      4669 non-null   object        \n",
      " 5   box         4669 non-null   object        \n",
      " 6   dimensions  4669 non-null   object        \n",
      " 7   region      4669 non-null   object        \n",
      " 8   info        4669 non-null   object        \n",
      " 9   date        4669 non-null   datetime64[ns]\n",
      "dtypes: datetime64[ns](1), int64(1), object(8)\n",
      "memory usage: 364.9+ KB\n"
     ]
    }
   ],
   "source": [
    "df.info()"
   ]
  },
  {
   "cell_type": "markdown",
   "id": "3fb55c46-a60e-4645-ba47-de53239fce36",
   "metadata": {},
   "source": [
    "## Individual counts\n",
    "\n",
    "How many pictures do we have of a given bear individual? How does this distribution vary depending on the split (train, val, test)? How does it vary depending on the region (bc or bf)?"
   ]
  },
  {
   "cell_type": "code",
   "execution_count": 16,
   "id": "dc23ef14-8127-44bd-b39e-eaab762096e4",
   "metadata": {},
   "outputs": [
    {
     "data": {
      "text/html": [
       "<div>\n",
       "<style scoped>\n",
       "    .dataframe tbody tr th:only-of-type {\n",
       "        vertical-align: middle;\n",
       "    }\n",
       "\n",
       "    .dataframe tbody tr th {\n",
       "        vertical-align: top;\n",
       "    }\n",
       "\n",
       "    .dataframe thead th {\n",
       "        text-align: right;\n",
       "    }\n",
       "</style>\n",
       "<table border=\"1\" class=\"dataframe\">\n",
       "  <thead>\n",
       "    <tr style=\"text-align: right;\">\n",
       "      <th></th>\n",
       "      <th>counts</th>\n",
       "    </tr>\n",
       "    <tr>\n",
       "      <th>label</th>\n",
       "      <th></th>\n",
       "    </tr>\n",
       "  </thead>\n",
       "  <tbody>\n",
       "    <tr>\n",
       "      <th>bf_480</th>\n",
       "      <td>241</td>\n",
       "    </tr>\n",
       "    <tr>\n",
       "      <th>bf_775</th>\n",
       "      <td>226</td>\n",
       "    </tr>\n",
       "    <tr>\n",
       "      <th>bf_409</th>\n",
       "      <td>204</td>\n",
       "    </tr>\n",
       "    <tr>\n",
       "      <th>bf_410</th>\n",
       "      <td>191</td>\n",
       "    </tr>\n",
       "    <tr>\n",
       "      <th>bf_151</th>\n",
       "      <td>178</td>\n",
       "    </tr>\n",
       "    <tr>\n",
       "      <th>...</th>\n",
       "      <td>...</td>\n",
       "    </tr>\n",
       "    <tr>\n",
       "      <th>bc_pirate</th>\n",
       "      <td>1</td>\n",
       "    </tr>\n",
       "    <tr>\n",
       "      <th>bf_511</th>\n",
       "      <td>1</td>\n",
       "    </tr>\n",
       "    <tr>\n",
       "      <th>bf_039</th>\n",
       "      <td>1</td>\n",
       "    </tr>\n",
       "    <tr>\n",
       "      <th>bf_263</th>\n",
       "      <td>1</td>\n",
       "    </tr>\n",
       "    <tr>\n",
       "      <th>bc_adeane</th>\n",
       "      <td>1</td>\n",
       "    </tr>\n",
       "  </tbody>\n",
       "</table>\n",
       "<p>132 rows × 1 columns</p>\n",
       "</div>"
      ],
      "text/plain": [
       "           counts\n",
       "label            \n",
       "bf_480        241\n",
       "bf_775        226\n",
       "bf_409        204\n",
       "bf_410        191\n",
       "bf_151        178\n",
       "...           ...\n",
       "bc_pirate       1\n",
       "bf_511          1\n",
       "bf_039          1\n",
       "bf_263          1\n",
       "bc_adeane       1\n",
       "\n",
       "[132 rows x 1 columns]"
      ]
     },
     "execution_count": 16,
     "metadata": {},
     "output_type": "execute_result"
    }
   ],
   "source": [
    "df.groupby([\"label\"]).size().reset_index(name='counts').set_index(\"label\").sort_values(\"counts\", ascending=False)"
   ]
  },
  {
   "cell_type": "code",
   "execution_count": 17,
   "id": "7276b14d-218c-4de0-8a7e-bd5e0d9e3856",
   "metadata": {},
   "outputs": [],
   "source": [
    "def plot_individual_counts(df, title: str) -> None:\n",
    "    df_individual_counts = df.groupby([\"label\"]).size().reset_index(name='counts')\n",
    "    df_individual_counts[\"counts\"].plot.hist(bins=25, figsize=(10,5), title=title)"
   ]
  },
  {
   "cell_type": "markdown",
   "id": "cf9a3bd0-2356-4e22-ac5c-4af425bfb5aa",
   "metadata": {},
   "source": [
    "### Data splits - all regions"
   ]
  },
  {
   "cell_type": "code",
   "execution_count": 18,
   "id": "fc9abf14-5933-4570-a86b-9eda7a5dbd69",
   "metadata": {},
   "outputs": [
    {
     "data": {
      "image/png": "[encoded data removed]",
      "text/plain": [
       "<Figure size 1000x500 with 1 Axes>"
      ]
     },
     "metadata": {},
     "output_type": "display_data"
    }
   ],
   "source": [
    "plot_individual_counts(df[df[\"split\"] == \"train\"], title=\"train\")"
   ]
  },
  {
   "cell_type": "code",
   "execution_count": 19,
   "id": "f9e52bbd-3bff-4b34-aa65-b770699bd26c",
   "metadata": {},
   "outputs": [
    {
     "data": {
      "image/png": "[encoded data removed]",
      "text/plain": [
       "<Figure size 1000x500 with 1 Axes>"
      ]
     },
     "metadata": {},
     "output_type": "display_data"
    }
   ],
   "source": [
    "plot_individual_counts(df[df[\"split\"] == \"test\"], title=\"test\")"
   ]
  },
  {
   "cell_type": "code",
   "execution_count": 20,
   "id": "561adf92-1234-411a-907a-467ff7ed8478",
   "metadata": {},
   "outputs": [
    {
     "data": {
      "image/png": "[encoded data removed]",
      "text/plain": [
       "<Figure size 1000x500 with 1 Axes>"
      ]
     },
     "metadata": {},
     "output_type": "display_data"
    }
   ],
   "source": [
    "plot_individual_counts(df[df[\"split\"] == \"val\"], title=\"val\")"
   ]
  },
  {
   "cell_type": "markdown",
   "id": "4a6e29a8-9b1f-482d-8030-5c039c90fbb6",
   "metadata": {},
   "source": [
    "### Data splits - Per region"
   ]
  },
  {
   "cell_type": "markdown",
   "id": "021e3886-e0a9-4eb6-82c0-076e5d7f36a3",
   "metadata": {},
   "source": [
    "#### British Columbia - bc"
   ]
  },
  {
   "cell_type": "code",
   "execution_count": 21,
   "id": "cae85c59-bd71-4354-84c8-17e26c015c3f",
   "metadata": {},
   "outputs": [
    {
     "data": {
      "text/html": [
       "<div>\n",
       "<style scoped>\n",
       "    .dataframe tbody tr th:only-of-type {\n",
       "        vertical-align: middle;\n",
       "    }\n",
       "\n",
       "    .dataframe tbody tr th {\n",
       "        vertical-align: top;\n",
       "    }\n",
       "\n",
       "    .dataframe thead th {\n",
       "        text-align: right;\n",
       "    }\n",
       "</style>\n",
       "<table border=\"1\" class=\"dataframe\">\n",
       "  <thead>\n",
       "    <tr style=\"text-align: right;\">\n",
       "      <th></th>\n",
       "      <th>split</th>\n",
       "      <th>label</th>\n",
       "      <th>resolution</th>\n",
       "      <th>filepath</th>\n",
       "      <th>source</th>\n",
       "      <th>box</th>\n",
       "      <th>dimensions</th>\n",
       "      <th>region</th>\n",
       "      <th>info</th>\n",
       "      <th>date</th>\n",
       "    </tr>\n",
       "  </thead>\n",
       "  <tbody>\n",
       "    <tr>\n",
       "      <th>11</th>\n",
       "      <td>test</td>\n",
       "      <td>bc_santa</td>\n",
       "      <td>40000</td>\n",
       "      <td>../../data/01_raw/BearID/chips/britishColumbia...</td>\n",
       "      <td>../../data/01_raw/BearID/images/britishColumbi...</td>\n",
       "      <td>{'label': 'bc_santa', 'top': 502, 'left': 646,...</td>\n",
       "      <td>{'width': 150, 'height': 150}</td>\n",
       "      <td>bc</td>\n",
       "      <td>melanie_20170828</td>\n",
       "      <td>2017-08-28</td>\n",
       "    </tr>\n",
       "    <tr>\n",
       "      <th>12</th>\n",
       "      <td>test</td>\n",
       "      <td>bc_santa</td>\n",
       "      <td>51529</td>\n",
       "      <td>../../data/01_raw/BearID/chips/britishColumbia...</td>\n",
       "      <td>../../data/01_raw/BearID/images/britishColumbi...</td>\n",
       "      <td>{'label': 'bc_santa', 'top': 353, 'left': 644,...</td>\n",
       "      <td>{'width': 150, 'height': 150}</td>\n",
       "      <td>bc</td>\n",
       "      <td>melanie_20170828</td>\n",
       "      <td>2017-08-28</td>\n",
       "    </tr>\n",
       "    <tr>\n",
       "      <th>13</th>\n",
       "      <td>test</td>\n",
       "      <td>bc_santa</td>\n",
       "      <td>40000</td>\n",
       "      <td>../../data/01_raw/BearID/chips/britishColumbia...</td>\n",
       "      <td>../../data/01_raw/BearID/images/britishColumbi...</td>\n",
       "      <td>{'label': 'bc_santa', 'top': 421, 'left': 646,...</td>\n",
       "      <td>{'width': 150, 'height': 150}</td>\n",
       "      <td>bc</td>\n",
       "      <td>melanie_20170828</td>\n",
       "      <td>2017-08-28</td>\n",
       "    </tr>\n",
       "    <tr>\n",
       "      <th>14</th>\n",
       "      <td>test</td>\n",
       "      <td>bc_toffee</td>\n",
       "      <td>191844</td>\n",
       "      <td>../../data/01_raw/BearID/chips/britishColumbia...</td>\n",
       "      <td>../../data/01_raw/BearID/images/britishColumbi...</td>\n",
       "      <td>{'label': 'bc_toffee', 'top': 304, 'left': 509...</td>\n",
       "      <td>{'width': 150, 'height': 150}</td>\n",
       "      <td>bc</td>\n",
       "      <td>melanie_20170828</td>\n",
       "      <td>2017-08-28</td>\n",
       "    </tr>\n",
       "    <tr>\n",
       "      <th>15</th>\n",
       "      <td>test</td>\n",
       "      <td>bc_toffee</td>\n",
       "      <td>117986</td>\n",
       "      <td>../../data/01_raw/BearID/chips/britishColumbia...</td>\n",
       "      <td>../../data/01_raw/BearID/images/britishColumbi...</td>\n",
       "      <td>{'label': 'bc_toffee', 'top': 372, 'left': 569...</td>\n",
       "      <td>{'width': 150, 'height': 150}</td>\n",
       "      <td>bc</td>\n",
       "      <td>melanie_20170828</td>\n",
       "      <td>2017-08-28</td>\n",
       "    </tr>\n",
       "  </tbody>\n",
       "</table>\n",
       "</div>"
      ],
      "text/plain": [
       "   split      label  resolution  \\\n",
       "11  test   bc_santa       40000   \n",
       "12  test   bc_santa       51529   \n",
       "13  test   bc_santa       40000   \n",
       "14  test  bc_toffee      191844   \n",
       "15  test  bc_toffee      117986   \n",
       "\n",
       "                                             filepath  \\\n",
       "11  ../../data/01_raw/BearID/chips/britishColumbia...   \n",
       "12  ../../data/01_raw/BearID/chips/britishColumbia...   \n",
       "13  ../../data/01_raw/BearID/chips/britishColumbia...   \n",
       "14  ../../data/01_raw/BearID/chips/britishColumbia...   \n",
       "15  ../../data/01_raw/BearID/chips/britishColumbia...   \n",
       "\n",
       "                                               source  \\\n",
       "11  ../../data/01_raw/BearID/images/britishColumbi...   \n",
       "12  ../../data/01_raw/BearID/images/britishColumbi...   \n",
       "13  ../../data/01_raw/BearID/images/britishColumbi...   \n",
       "14  ../../data/01_raw/BearID/images/britishColumbi...   \n",
       "15  ../../data/01_raw/BearID/images/britishColumbi...   \n",
       "\n",
       "                                                  box  \\\n",
       "11  {'label': 'bc_santa', 'top': 502, 'left': 646,...   \n",
       "12  {'label': 'bc_santa', 'top': 353, 'left': 644,...   \n",
       "13  {'label': 'bc_santa', 'top': 421, 'left': 646,...   \n",
       "14  {'label': 'bc_toffee', 'top': 304, 'left': 509...   \n",
       "15  {'label': 'bc_toffee', 'top': 372, 'left': 569...   \n",
       "\n",
       "                       dimensions region              info       date  \n",
       "11  {'width': 150, 'height': 150}     bc  melanie_20170828 2017-08-28  \n",
       "12  {'width': 150, 'height': 150}     bc  melanie_20170828 2017-08-28  \n",
       "13  {'width': 150, 'height': 150}     bc  melanie_20170828 2017-08-28  \n",
       "14  {'width': 150, 'height': 150}     bc  melanie_20170828 2017-08-28  \n",
       "15  {'width': 150, 'height': 150}     bc  melanie_20170828 2017-08-28  "
      ]
     },
     "execution_count": 21,
     "metadata": {},
     "output_type": "execute_result"
    }
   ],
   "source": [
    "df_bc = df[df[\"region\"] == \"bc\"]\n",
    "df_bc.head()"
   ]
  },
  {
   "cell_type": "code",
   "execution_count": 22,
   "id": "3996927e-e7bd-478a-840c-ac23afa3a9dd",
   "metadata": {},
   "outputs": [
    {
     "data": {
      "image/png": "[encoded data removed]",
      "text/plain": [
       "<Figure size 1000x500 with 1 Axes>"
      ]
     },
     "metadata": {},
     "output_type": "display_data"
    }
   ],
   "source": [
    "plot_individual_counts(df_bc[df_bc[\"split\"] == \"train\"], title=\"train\")"
   ]
  },
  {
   "cell_type": "code",
   "execution_count": 23,
   "id": "f41e0ac3-e21d-4b37-87ec-c077c398e14b",
   "metadata": {},
   "outputs": [
    {
     "data": {
      "image/png": "[encoded data removed]",
      "text/plain": [
       "<Figure size 1000x500 with 1 Axes>"
      ]
     },
     "metadata": {},
     "output_type": "display_data"
    }
   ],
   "source": [
    "plot_individual_counts(df_bc[df_bc[\"split\"] == \"val\"], title=\"val\")"
   ]
  },
  {
   "cell_type": "code",
   "execution_count": 24,
   "id": "cb0ab877-c038-4c7c-9882-4159f53ec76b",
   "metadata": {},
   "outputs": [
    {
     "data": {
      "image/png": "[encoded data removed]",
      "text/plain": [
       "<Figure size 1000x500 with 1 Axes>"
      ]
     },
     "metadata": {},
     "output_type": "display_data"
    }
   ],
   "source": [
    "plot_individual_counts(df_bc[df_bc[\"split\"] == \"test\"], title=\"test\")"
   ]
  },
  {
   "cell_type": "markdown",
   "id": "8f271e52-c1fe-47d2-8e9e-a74b52fee907",
   "metadata": {},
   "source": [
    "#### Brook Falls - bf"
   ]
  },
  {
   "cell_type": "code",
   "execution_count": 25,
   "id": "86238034-1b86-40d5-a929-e3017483ab42",
   "metadata": {},
   "outputs": [
    {
     "data": {
      "text/html": [
       "<div>\n",
       "<style scoped>\n",
       "    .dataframe tbody tr th:only-of-type {\n",
       "        vertical-align: middle;\n",
       "    }\n",
       "\n",
       "    .dataframe tbody tr th {\n",
       "        vertical-align: top;\n",
       "    }\n",
       "\n",
       "    .dataframe thead th {\n",
       "        text-align: right;\n",
       "    }\n",
       "</style>\n",
       "<table border=\"1\" class=\"dataframe\">\n",
       "  <thead>\n",
       "    <tr style=\"text-align: right;\">\n",
       "      <th></th>\n",
       "      <th>split</th>\n",
       "      <th>label</th>\n",
       "      <th>resolution</th>\n",
       "      <th>filepath</th>\n",
       "      <th>source</th>\n",
       "      <th>box</th>\n",
       "      <th>dimensions</th>\n",
       "      <th>region</th>\n",
       "      <th>info</th>\n",
       "      <th>date</th>\n",
       "    </tr>\n",
       "  </thead>\n",
       "  <tbody>\n",
       "    <tr>\n",
       "      <th>0</th>\n",
       "      <td>test</td>\n",
       "      <td>bf_755</td>\n",
       "      <td>6400</td>\n",
       "      <td>../../data/01_raw/BearID/chips/brooksFalls/nps...</td>\n",
       "      <td>../../data/01_raw/BearID/images/brooksFalls/np...</td>\n",
       "      <td>{'label': 'bf_755', 'top': 407, 'left': 527, '...</td>\n",
       "      <td>{'width': 150, 'height': 150}</td>\n",
       "      <td>bf</td>\n",
       "      <td>nps_library_201709</td>\n",
       "      <td>2017-09-01</td>\n",
       "    </tr>\n",
       "    <tr>\n",
       "      <th>1</th>\n",
       "      <td>test</td>\n",
       "      <td>bf_755</td>\n",
       "      <td>80940</td>\n",
       "      <td>../../data/01_raw/BearID/chips/brooksFalls/fi_...</td>\n",
       "      <td>../../data/01_raw/BearID/images/brooksFalls/fi...</td>\n",
       "      <td>{'label': 'bf_755', 'top': 421, 'left': 1073, ...</td>\n",
       "      <td>{'width': 150, 'height': 150}</td>\n",
       "      <td>bf</td>\n",
       "      <td>fi_2015_2016</td>\n",
       "      <td>2016-01-01</td>\n",
       "    </tr>\n",
       "    <tr>\n",
       "      <th>2</th>\n",
       "      <td>test</td>\n",
       "      <td>bf_755</td>\n",
       "      <td>56628</td>\n",
       "      <td>../../data/01_raw/BearID/chips/brooksFalls/bea...</td>\n",
       "      <td>../../data/01_raw/BearID/images/brooksFalls/be...</td>\n",
       "      <td>{'label': 'bf_755', 'top': 359, 'left': 390, '...</td>\n",
       "      <td>{'width': 150, 'height': 150}</td>\n",
       "      <td>bf</td>\n",
       "      <td>bear_mon_201607</td>\n",
       "      <td>2016-07-01</td>\n",
       "    </tr>\n",
       "    <tr>\n",
       "      <th>3</th>\n",
       "      <td>test</td>\n",
       "      <td>bf_755</td>\n",
       "      <td>39204</td>\n",
       "      <td>../../data/01_raw/BearID/chips/brooksFalls/je_...</td>\n",
       "      <td>../../data/01_raw/BearID/images/brooksFalls/je...</td>\n",
       "      <td>{'label': 'bf_755', 'top': 476, 'left': 598, '...</td>\n",
       "      <td>{'width': 150, 'height': 150}</td>\n",
       "      <td>bf</td>\n",
       "      <td>je_201708</td>\n",
       "      <td>2017-08-01</td>\n",
       "    </tr>\n",
       "    <tr>\n",
       "      <th>4</th>\n",
       "      <td>test</td>\n",
       "      <td>bf_755</td>\n",
       "      <td>6400</td>\n",
       "      <td>../../data/01_raw/BearID/chips/brooksFalls/nps...</td>\n",
       "      <td>../../data/01_raw/BearID/images/brooksFalls/np...</td>\n",
       "      <td>{'label': 'bf_755', 'top': 295, 'left': 495, '...</td>\n",
       "      <td>{'width': 150, 'height': 150}</td>\n",
       "      <td>bf</td>\n",
       "      <td>nps_library_201709</td>\n",
       "      <td>2017-09-01</td>\n",
       "    </tr>\n",
       "  </tbody>\n",
       "</table>\n",
       "</div>"
      ],
      "text/plain": [
       "  split   label  resolution  \\\n",
       "0  test  bf_755        6400   \n",
       "1  test  bf_755       80940   \n",
       "2  test  bf_755       56628   \n",
       "3  test  bf_755       39204   \n",
       "4  test  bf_755        6400   \n",
       "\n",
       "                                            filepath  \\\n",
       "0  ../../data/01_raw/BearID/chips/brooksFalls/nps...   \n",
       "1  ../../data/01_raw/BearID/chips/brooksFalls/fi_...   \n",
       "2  ../../data/01_raw/BearID/chips/brooksFalls/bea...   \n",
       "3  ../../data/01_raw/BearID/chips/brooksFalls/je_...   \n",
       "4  ../../data/01_raw/BearID/chips/brooksFalls/nps...   \n",
       "\n",
       "                                              source  \\\n",
       "0  ../../data/01_raw/BearID/images/brooksFalls/np...   \n",
       "1  ../../data/01_raw/BearID/images/brooksFalls/fi...   \n",
       "2  ../../data/01_raw/BearID/images/brooksFalls/be...   \n",
       "3  ../../data/01_raw/BearID/images/brooksFalls/je...   \n",
       "4  ../../data/01_raw/BearID/images/brooksFalls/np...   \n",
       "\n",
       "                                                 box  \\\n",
       "0  {'label': 'bf_755', 'top': 407, 'left': 527, '...   \n",
       "1  {'label': 'bf_755', 'top': 421, 'left': 1073, ...   \n",
       "2  {'label': 'bf_755', 'top': 359, 'left': 390, '...   \n",
       "3  {'label': 'bf_755', 'top': 476, 'left': 598, '...   \n",
       "4  {'label': 'bf_755', 'top': 295, 'left': 495, '...   \n",
       "\n",
       "                      dimensions region                info       date  \n",
       "0  {'width': 150, 'height': 150}     bf  nps_library_201709 2017-09-01  \n",
       "1  {'width': 150, 'height': 150}     bf        fi_2015_2016 2016-01-01  \n",
       "2  {'width': 150, 'height': 150}     bf     bear_mon_201607 2016-07-01  \n",
       "3  {'width': 150, 'height': 150}     bf           je_201708 2017-08-01  \n",
       "4  {'width': 150, 'height': 150}     bf  nps_library_201709 2017-09-01  "
      ]
     },
     "execution_count": 25,
     "metadata": {},
     "output_type": "execute_result"
    }
   ],
   "source": [
    "df_bf = df[df[\"region\"] == \"bf\"]\n",
    "df_bf.head()"
   ]
  },
  {
   "cell_type": "code",
   "execution_count": 26,
   "id": "a59c06e8-30e3-4bb0-96ae-05c4f44b3c5d",
   "metadata": {},
   "outputs": [
    {
     "data": {
      "image/png": "[encoded data removed]",
      "text/plain": [
       "<Figure size 1000x500 with 1 Axes>"
      ]
     },
     "metadata": {},
     "output_type": "display_data"
    }
   ],
   "source": [
    "plot_individual_counts(df_bf[df_bf[\"split\"] == \"train\"], title=\"train\")"
   ]
  },
  {
   "cell_type": "code",
   "execution_count": 27,
   "id": "de9a6a6b-3a40-4546-83a2-e49c8df3bba7",
   "metadata": {},
   "outputs": [
    {
     "data": {
      "image/png": "[encoded data removed]",
      "text/plain": [
       "<Figure size 1000x500 with 1 Axes>"
      ]
     },
     "metadata": {},
     "output_type": "display_data"
    }
   ],
   "source": [
    "plot_individual_counts(df_bf[df_bf[\"split\"] == \"val\"], title=\"val\")"
   ]
  },
  {
   "cell_type": "code",
   "execution_count": 28,
   "id": "3bd4ec2e-a326-4a47-a7f2-be81cc9ce883",
   "metadata": {},
   "outputs": [
    {
     "data": {
      "image/png": "[encoded data removed]",
      "text/plain": [
       "<Figure size 1000x500 with 1 Axes>"
      ]
     },
     "metadata": {},
     "output_type": "display_data"
    }
   ],
   "source": [
    "plot_individual_counts(df_bf[df_bf[\"split\"] == \"test\"], title=\"test\")"
   ]
  }
 ],
 "metadata": {
  "kernelspec": {
   "display_name": "Python 3 (ipykernel)",
   "language": "python",
   "name": "python3"
  },
  "language_info": {
   "codemirror_mode": {
    "name": "ipython",
    "version": 3
   },
   "file_extension": ".py",
   "mimetype": "text/x-python",
   "name": "python",
   "nbconvert_exporter": "python",
   "pygments_lexer": "ipython3",
   "version": "3.9.18"
  }
 },
 "nbformat": 4,
 "nbformat_minor": 5
}
