{
 "cells": [
  {
   "cell_type": "code",
   "execution_count": 1,
   "id": "4b12ce3a-c25c-449e-a435-ac846800bcdd",
   "metadata": {},
   "outputs": [],
   "source": [
    "from ultralytics import SAM\n",
    "from ultralytics.data.annotator import auto_annotate\n",
    "\n",
    "from pathlib import Path\n",
    "import os\n",
    "import shutil\n",
    "import random"
   ]
  },
  {
   "cell_type": "code",
   "execution_count": 2,
   "id": "9c0fa2ca-181f-4c1b-b45a-fa5ea643f796",
   "metadata": {},
   "outputs": [],
   "source": [
    "# Load a model\n",
    "model = SAM('sam_b.pt')\n",
    "# Display model information\n",
    "model.info()"
   ]
  },
  {
   "cell_type": "code",
   "execution_count": 4,
   "id": "a6cc43d3-4f7d-423b-9e1d-5678e3d1fe85",
   "metadata": {},
   "outputs": [],
   "source": [
    "data_path = Path('../../data/05_model_input/bearfacedetection/golden_dataset/val/images/')\n",
    "det_model_path = Path('../../data/06_models/bearfacedetection/yolov8/golden_dataset_baseline/weights/best.pt')"
   ]
  },
  {
   "cell_type": "code",
   "execution_count": 5,
   "id": "a06071db-ae7d-4009-b3a6-7cbc7bda0e72",
   "metadata": {},
   "outputs": [],
   "source": [
    "random.seed(42)\n",
    "k = 10\n",
    "\n",
    "filepaths = [data_path / filename for filename in random.sample(os.listdir(data_path), k)]"
   ]
  },
  {
   "cell_type": "code",
   "execution_count": 6,
   "id": "489707a2-e584-4ebe-bce4-566052122597",
   "metadata": {},
   "outputs": [],
   "source": [
    "output_dir_root = Path('../../data/07_model_output/bearfacesegmentation/sam/golden_dataset_baseline/')\n",
    "output_dir_images = output_dir_root / 'images/'\n",
    "output_dir_labels = output_dir_root / 'labels/'"
   ]
  },
  {
   "cell_type": "code",
   "execution_count": 7,
   "id": "68dd033a-b3e0-4d3d-b2be-9b8ce031a7ba",
   "metadata": {},
   "outputs": [],
   "source": [
    "def annotate_with_sam(det_model_path: Path, filepaths: list[Path], output_dir_images: Path, output_dir_labels: Path) -> None:\n",
    "    os.makedirs(output_dir_images, exist_ok=True)\n",
    "\n",
    "    for filepath in filepaths:\n",
    "        shutil.copy(filepath, output_dir_images / filepath.name)\n",
    "    \n",
    "    auto_annotate(data=output_dir_images, det_model=det_model_path, sam_model='sam_b.pt', output_dir=output_dir_labels)"
   ]
  },
  {
   "cell_type": "code",
   "execution_count": 8,
   "id": "e4359f4c-dab4-4c24-9c47-0b3a5d1ae5ff",
   "metadata": {},
   "outputs": [
    {
     "name": "stdout",
     "output_type": "stream",
     "text": [
      "\n",
      "image 1/10 /home/chouffe/fruitpunch/challenges/bear/notebooks/bearfacesegmentation/../../data/07_model_output/bearfacesegmentation/sam/golden_dataset_baseline/images/2015CF_walker-151_20341678914_o.jpg: 448x640 1 bearface, 68.9ms\n",
      "image 2/10 /home/chouffe/fruitpunch/challenges/bear/notebooks/bearfacesegmentation/../../data/07_model_output/bearfacesegmentation/sam/golden_dataset_baseline/images/2016CF_lefty-775_28707182843_o.jpg: 640x448 1 bearface, 54.0ms\n",
      "image 3/10 /home/chouffe/fruitpunch/challenges/bear/notebooks/bearfacesegmentation/../../data/07_model_output/bearfacesegmentation/sam/golden_dataset_baseline/images/28840682522_11fc1dcb12_k.jpg: 448x640 1 bearface, 44.8ms\n",
      "image 4/10 /home/chouffe/fruitpunch/challenges/bear/notebooks/bearfacesegmentation/../../data/07_model_output/bearfacesegmentation/sam/golden_dataset_baseline/images/409 Fall-2.jpg: 448x640 1 bearface, 53.2ms\n",
      "image 5/10 /home/chouffe/fruitpunch/challenges/bear/notebooks/bearfacesegmentation/../../data/07_model_output/bearfacesegmentation/sam/golden_dataset_baseline/images/P1150335.JPG: 480x640 1 bearface, 66.9ms\n",
      "image 6/10 /home/chouffe/fruitpunch/challenges/bear/notebooks/bearfacesegmentation/../../data/07_model_output/bearfacesegmentation/sam/golden_dataset_baseline/images/P1150617.JPG: 480x640 1 bearface, 55.8ms\n",
      "image 7/10 /home/chouffe/fruitpunch/challenges/bear/notebooks/bearfacesegmentation/../../data/07_model_output/bearfacesegmentation/sam/golden_dataset_baseline/images/P1150940.JPG: 480x640 1 bearface, 66.0ms\n",
      "image 8/10 /home/chouffe/fruitpunch/challenges/bear/notebooks/bearfacesegmentation/../../data/07_model_output/bearfacesegmentation/sam/golden_dataset_baseline/images/P1190044.JPG: 480x640 1 bearface, 56.4ms\n",
      "image 9/10 /home/chouffe/fruitpunch/challenges/bear/notebooks/bearfacesegmentation/../../data/07_model_output/bearfacesegmentation/sam/golden_dataset_baseline/images/P1250022.JPG: 480x640 1 bearface, 54.0ms\n",
      "image 10/10 /home/chouffe/fruitpunch/challenges/bear/notebooks/bearfacesegmentation/../../data/07_model_output/bearfacesegmentation/sam/golden_dataset_baseline/images/P1270247.JPG: 480x640 1 bearface, 83.6ms\n",
      "Speed: 3.1ms preprocess, 60.4ms inference, 0.9ms postprocess per image at shape (1, 3, 480, 640)\n"
     ]
    }
   ],
   "source": [
    "annotate_with_sam(\n",
    "    det_model_path=det_model_path, \n",
    "    filepaths=filepaths, \n",
    "    output_dir_images=output_dir_images, \n",
    "    output_dir_labels=output_dir_labels,\n",
    ")"
   ]
  },
  {
   "cell_type": "code",
   "execution_count": null,
   "id": "da68168a-c355-4028-87b8-5eef0d44a168",
   "metadata": {},
   "outputs": [],
   "source": []
  }
 ],
 "metadata": {
  "kernelspec": {
   "display_name": "Python 3 (ipykernel)",
   "language": "python",
   "name": "python3"
  },
  "language_info": {
   "codemirror_mode": {
    "name": "ipython",
    "version": 3
   },
   "file_extension": ".py",
   "mimetype": "text/x-python",
   "name": "python",
   "nbconvert_exporter": "python",
   "pygments_lexer": "ipython3",
   "version": "3.9.18"
  }
 },
 "nbformat": 4,
 "nbformat_minor": 5
}
